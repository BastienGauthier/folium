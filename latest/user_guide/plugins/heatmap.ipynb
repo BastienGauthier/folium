{
 "cells": [
  {
   "cell_type": "markdown",
   "id": "799d6fff",
   "metadata": {},
   "source": [
    "## Heatmap"
   ]
  },
  {
   "cell_type": "code",
   "execution_count": 1,
   "id": "ad843b24",
   "metadata": {
    "execution": {
     "iopub.execute_input": "2023-09-05T08:22:54.495976Z",
     "iopub.status.busy": "2023-09-05T08:22:54.495641Z",
     "iopub.status.idle": "2023-09-05T08:22:54.620299Z",
     "shell.execute_reply": "2023-09-05T08:22:54.619511Z"
    }
   },
   "outputs": [],
   "source": [
    "import numpy as np\n",
    "\n",
    "data = (\n",
    "    np.random.normal(size=(100, 3)) * np.array([[1, 1, 1]]) + np.array([[48, 5, 1]])\n",
    ").tolist()"
   ]
  },
  {
   "cell_type": "code",
   "execution_count": 2,
   "id": "05ae2bbb",
   "metadata": {
    "execution": {
     "iopub.execute_input": "2023-09-05T08:22:54.625524Z",
     "iopub.status.busy": "2023-09-05T08:22:54.625114Z",
     "iopub.status.idle": "2023-09-05T08:22:55.094819Z",
     "shell.execute_reply": "2023-09-05T08:22:55.094538Z"
    }
   },
   "outputs": [
    {
     "data": {
      "text/html": [
       "<div style=\"width:100%;\"><div style=\"position:relative;width:100%;height:0;padding-bottom:60%;\"><span style=\"color:#565656\">Make this Notebook Trusted to load map: File -> Trust Notebook</span><iframe srcdoc=\"&lt;!DOCTYPE html&gt;\n",
       "&lt;html&gt;\n",
       "&lt;head&gt;\n",
       "    \n",
       "    &lt;meta http-equiv=&quot;content-type&quot; content=&quot;text/html; charset=UTF-8&quot; /&gt;\n",
       "    \n",
       "        &lt;script&gt;\n",
       "            L_NO_TOUCH = false;\n",
       "            L_DISABLE_3D = false;\n",
       "        &lt;/script&gt;\n",
       "    \n",
       "    &lt;style&gt;html, body {width: 100%;height: 100%;margin: 0;padding: 0;}&lt;/style&gt;\n",
       "    &lt;style&gt;#map {position:absolute;top:0;bottom:0;right:0;left:0;}&lt;/style&gt;\n",
       "    &lt;script src=&quot;https://cdn.jsdelivr.net/npm/leaflet@1.9.3/dist/leaflet.js&quot;&gt;&lt;/script&gt;\n",
       "    &lt;script src=&quot;https://code.jquery.com/jquery-1.12.4.min.js&quot;&gt;&lt;/script&gt;\n",
       "    &lt;script src=&quot;https://cdn.jsdelivr.net/npm/bootstrap@5.2.2/dist/js/bootstrap.bundle.min.js&quot;&gt;&lt;/script&gt;\n",
       "    &lt;script src=&quot;https://cdnjs.cloudflare.com/ajax/libs/Leaflet.awesome-markers/2.0.2/leaflet.awesome-markers.js&quot;&gt;&lt;/script&gt;\n",
       "    &lt;link rel=&quot;stylesheet&quot; href=&quot;https://cdn.jsdelivr.net/npm/leaflet@1.9.3/dist/leaflet.css&quot;/&gt;\n",
       "    &lt;link rel=&quot;stylesheet&quot; href=&quot;https://cdn.jsdelivr.net/npm/bootstrap@5.2.2/dist/css/bootstrap.min.css&quot;/&gt;\n",
       "    &lt;link rel=&quot;stylesheet&quot; href=&quot;https://netdna.bootstrapcdn.com/bootstrap/3.0.0/css/bootstrap.min.css&quot;/&gt;\n",
       "    &lt;link rel=&quot;stylesheet&quot; href=&quot;https://cdn.jsdelivr.net/npm/@fortawesome/fontawesome-free@6.2.0/css/all.min.css&quot;/&gt;\n",
       "    &lt;link rel=&quot;stylesheet&quot; href=&quot;https://cdnjs.cloudflare.com/ajax/libs/Leaflet.awesome-markers/2.0.2/leaflet.awesome-markers.css&quot;/&gt;\n",
       "    &lt;link rel=&quot;stylesheet&quot; href=&quot;https://cdn.jsdelivr.net/gh/python-visualization/folium/folium/templates/leaflet.awesome.rotate.min.css&quot;/&gt;\n",
       "    \n",
       "            &lt;meta name=&quot;viewport&quot; content=&quot;width=device-width,\n",
       "                initial-scale=1.0, maximum-scale=1.0, user-scalable=no&quot; /&gt;\n",
       "            &lt;style&gt;\n",
       "                #map_2b754a9b9744d20de723658eaf3aa3e7 {\n",
       "                    position: relative;\n",
       "                    width: 100.0%;\n",
       "                    height: 100.0%;\n",
       "                    left: 0.0%;\n",
       "                    top: 0.0%;\n",
       "                }\n",
       "                .leaflet-container { font-size: 1rem; }\n",
       "            &lt;/style&gt;\n",
       "        \n",
       "    &lt;script src=&quot;https://cdn.jsdelivr.net/gh/python-visualization/folium@main/folium/templates/leaflet_heat.min.js&quot;&gt;&lt;/script&gt;\n",
       "&lt;/head&gt;\n",
       "&lt;body&gt;\n",
       "    \n",
       "    \n",
       "            &lt;div class=&quot;folium-map&quot; id=&quot;map_2b754a9b9744d20de723658eaf3aa3e7&quot; &gt;&lt;/div&gt;\n",
       "        \n",
       "&lt;/body&gt;\n",
       "&lt;script&gt;\n",
       "    \n",
       "    \n",
       "            var map_2b754a9b9744d20de723658eaf3aa3e7 = L.map(\n",
       "                &quot;map_2b754a9b9744d20de723658eaf3aa3e7&quot;,\n",
       "                {\n",
       "                    center: [48.0, 5.0],\n",
       "                    crs: L.CRS.EPSG3857,\n",
       "                    zoom: 6,\n",
       "                    zoomControl: true,\n",
       "                    preferCanvas: false,\n",
       "                }\n",
       "            );\n",
       "\n",
       "            \n",
       "\n",
       "        \n",
       "    \n",
       "            var tile_layer_85bd83c7f7be81daee2b7ab428fcbe8e = L.tileLayer(\n",
       "                &quot;https://stamen-tiles-{s}.a.ssl.fastly.net/toner/{z}/{x}/{y}.png&quot;,\n",
       "                {&quot;attribution&quot;: &quot;Map tiles by \\u003ca target=\\&quot;_blank\\&quot; href=\\&quot;http://stamen.com\\&quot;\\u003eStamen Design\\u003c/a\\u003e, under \\u003ca target=\\&quot;_blank\\&quot; href=\\&quot;http://creativecommons.org/licenses/by/3.0\\&quot;\\u003eCC BY 3.0\\u003c/a\\u003e. Data by \\u0026copy; \\u003ca target=\\&quot;_blank\\&quot; href=\\&quot;http://openstreetmap.org\\&quot;\\u003eOpenStreetMap\\u003c/a\\u003e, under \\u003ca target=\\&quot;_blank\\&quot; href=\\&quot;http://www.openstreetmap.org/copyright\\&quot;\\u003eODbL\\u003c/a\\u003e.&quot;, &quot;detectRetina&quot;: false, &quot;maxNativeZoom&quot;: 18, &quot;maxZoom&quot;: 18, &quot;minZoom&quot;: 0, &quot;noWrap&quot;: false, &quot;opacity&quot;: 1, &quot;subdomains&quot;: &quot;abc&quot;, &quot;tms&quot;: false}\n",
       "            );\n",
       "        \n",
       "    \n",
       "                tile_layer_85bd83c7f7be81daee2b7ab428fcbe8e.addTo(map_2b754a9b9744d20de723658eaf3aa3e7);\n",
       "    \n",
       "            var heat_map_7e261b5d5f4b8ad58f86f50e1b15d513 = L.heatLayer(\n",
       "                [[49.45434289510758, 4.206486114907143, 0.9726877829173964], [48.442216555178305, 4.025951502651901, -1.064146074669483], [47.98488124564147, 3.934166016421308, 1.2307371493813826], [48.154984982199935, 4.458708958197573, 2.107224387356725], [47.99359203084304, 5.17802497420827, 1.9606313279027987], [48.129738958569085, 4.449509604205105, 0.6331915944209392], [47.66040299581993, 4.504051034598332, 2.342133515754723], [47.522668621525284, 2.5991579284391744, 1.1686594551739649], [46.23534746566208, 2.727456535843627, 0.18460209057297428], [46.12618955649329, 5.4338115695348685, 1.0194644484815774], [47.285523345952726, 6.615231168124688, 0.31466871451431055], [49.221786925474454, 5.85311418971581, 0.23061201988793434], [48.12490791793347, 5.4846500477869515, 1.818629477152643], [48.58183620655889, 4.826558042291744, 0.6560141013669654], [45.81806026491427, 4.454404650409582, 2.924394173584985], [50.344087931653235, 5.520008625929562, 2.5320323017553052], [49.14586172112396, 5.7858821684375785, 2.6376180251898447], [47.726259062723926, 5.91118536278168, 1.1952270440352222], [47.752063512969336, 4.866757121874552, 1.374535076376826], [48.62366742074298, 6.747291376560575, 1.46515445912725], [47.24401303205006, 5.624656624395945, 1.9381465000123566], [45.30555580841154, 3.511070329198545, 1.036053693291159], [49.46418012225782, 5.447156255815492, -0.8477333113498065], [47.480096351018354, 5.842803057225361, 1.6467633429325312], [47.44138941391184, 2.9629720248420255, -0.03855682478980671], [47.40690814229406, 3.1591415796685296, 0.6523778031500916], [48.16185243760082, 5.353261878847634, 1.8897874313995202], [48.54876176928181, 5.099882356736472, 0.41921301456187954], [48.54286227228251, 4.449828012930225, 1.0816512552273092], [49.18114623295671, 4.1482007357178174, 0.41260109509988085], [48.420958443796316, 6.542399908600874, 0.15500572818143965], [47.052612814357666, 5.876295428640992, 2.222539569775366], [50.638730122394826, 4.258224904500335, 0.09948160541562612], [47.8588916812383, 5.044667829798168, 0.9186450126793706], [47.434981292112155, 4.751513508102451, -0.8205756939603108], [48.655557115569174, 4.861662595213682, -0.5153857276305334], [47.62244011054886, 5.576008994131345, 2.0214951105910637], [48.17773383729051, 4.570153826336033, 1.8583112792432415], [49.05877174164466, 4.485736279815871, 0.6175055552824722], [46.52174377871946, 4.663153215190341, 0.8669346228286414], [48.108860611863705, 5.580670546712172, 0.6743763162739013], [48.012872733357646, 5.703520243830066, 1.3136067070247137], [46.627248464021946, 3.336355915789457, 0.5462807284883946], [45.54932380242574, 5.177203587451884, 1.8149228473202876], [48.993078473341896, 3.466792569816222, 0.8107620800820241], [48.70099626994766, 3.2192470114569947, 2.231759268970051], [46.261389876182506, 5.677712293553184, 1.011257167164756], [46.75986459034488, 3.3331474137212735, 1.8735743112258114], [47.487573735909464, 4.68946933116477, 0.05242383854714361], [46.84364257536683, 4.5393149329127285, 0.3600695484340821], [48.727585880282625, 5.802890247303383, 1.6386606101884706], [47.703454007045245, 4.588484236852229, 0.7846464130563988], [47.57515509141561, 6.434658710506594, -0.16596037737390978], [46.394069468814855, 4.578497855373344, 0.7402246426555984], [48.04683552992763, 3.2824329697721106, 2.3081736595416236], [48.80567084673712, 4.5149831521752635, 1.1910289058708472], [48.88070527142681, 6.451399215477363, 2.5719231724615486], [46.328101073230485, 5.898457540612949, 1.6753713457505715], [46.96470420503448, 6.97450483636806, 2.455825163772265], [48.796103680335435, 6.067755308858133, -1.5970821519090044], [46.75912389601714, 4.960846348239546, 2.106568035203911], [49.702552747998254, 3.93564711769774, 1.5883615553949768], [46.747577893714855, 7.109131011090085, 0.5099844089558341], [50.121054587338854, 6.218859080420816, -0.24816490172130767], [47.95220022710862, 4.794030363696294, 0.018328558802760186], [47.43484128271862, 2.913472576733576, 0.3269154326989343], [47.991325024274474, 4.573597807028808, 1.8562038412903354], [48.1774112682094, 4.412443283803167, 0.6450688068022365], [47.493885148111524, 3.026236111679456, 1.7859679561328887], [48.626181280425804, 5.337526049939323, 2.3348440207715155], [48.63705596092275, 4.429252202046367, 0.9163792647575856], [45.55257465197048, 3.3723055678215026, 1.746592162754937], [48.590287255720675, 5.324086779671717, 1.3282716931078258], [49.80514670699044, 3.677323756544081, 0.6283688957531335], [46.427751362487086, 4.845779601218207, -0.3319077686860308], [47.90473689164301, 3.3752615937846477, 1.9567194383127289], [49.36083413481678, 4.234791714704853, 0.7036408057921302], [47.847511407938576, 6.165554693430027, 0.4999289889008337], [48.26402231990516, 3.285628263974592, 2.0696807828629664], [48.45955570144821, 4.256239692287747, 0.5555697065424845], [47.822513480208734, 4.781228256240217, -0.04467090615797442], [46.18150079865903, 5.8182398430804705, 0.6087812171973948], [49.9254376783681, 3.5057312490275256, 0.23887436355156944], [47.897885398470684, 3.7408125771571377, -0.47898576718636865], [48.227292935184096, 5.1765994411927965, 0.22065796194653275], [48.070856585185574, 3.950055884913017, 0.195967808971794], [46.59539381535268, 5.086268680914596, -1.1148251352795806], [48.00924885090076, 4.448385484570165, 1.4562761459525102], [46.96190762934388, 4.417064034263618, 1.9410420149421543], [48.173332063667324, 4.138100838066886, 2.0956748222957593], [48.02892069878499, 4.839910498898833, 0.9259368686357267], [48.94871739040471, 4.830779544678967, 2.5127348290931235], [48.44448799192103, 5.373293514598504, 0.006563271032972717], [49.1834655016881, 6.045441230234619, 0.47904697933923523], [47.421052860558, 3.192812427172045, 0.45752494779470076], [47.419246759823906, 3.196456662903654, 0.9410534103075828], [48.745641519417894, 6.786704837639526, 1.834901563932678], [49.79819208968062, 5.50408509883485, -0.24608167695961836], [49.31470021074507, 5.232726575412805, 0.48166331268340834], [49.41944469631567, 4.314161805325539, -0.11494947411253364]],\n",
       "                {&quot;blur&quot;: 15, &quot;maxZoom&quot;: 18, &quot;minOpacity&quot;: 0.5, &quot;radius&quot;: 25}\n",
       "            );\n",
       "        \n",
       "    \n",
       "                heat_map_7e261b5d5f4b8ad58f86f50e1b15d513.addTo(map_2b754a9b9744d20de723658eaf3aa3e7);\n",
       "&lt;/script&gt;\n",
       "&lt;/html&gt;\" style=\"position:absolute;width:100%;height:100%;left:0;top:0;border:none !important;\" allowfullscreen webkitallowfullscreen mozallowfullscreen></iframe></div></div>"
      ],
      "text/plain": [
       "<folium.folium.Map at 0x1046adbe0>"
      ]
     },
     "execution_count": 2,
     "metadata": {},
     "output_type": "execute_result"
    }
   ],
   "source": [
    "import folium\n",
    "from folium.plugins import HeatMap\n",
    "\n",
    "m = folium.Map([48.0, 5.0], tiles=\"stamentoner\", zoom_start=6)\n",
    "\n",
    "HeatMap(data).add_to(m)\n",
    "\n",
    "m"
   ]
  }
 ],
 "metadata": {
  "jupytext": {
   "text_representation": {
    "extension": ".mystnb",
    "format_name": "myst"
   }
  },
  "language_info": {
   "codemirror_mode": {
    "name": "ipython",
    "version": 3
   },
   "file_extension": ".py",
   "mimetype": "text/x-python",
   "name": "python",
   "nbconvert_exporter": "python",
   "pygments_lexer": "ipython3",
   "version": "3.9.6"
  }
 },
 "nbformat": 4,
 "nbformat_minor": 5
}
