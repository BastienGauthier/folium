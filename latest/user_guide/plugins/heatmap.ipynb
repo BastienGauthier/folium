{
 "cells": [
  {
   "cell_type": "markdown",
   "id": "471442bb",
   "metadata": {},
   "source": [
    "## Heatmap"
   ]
  },
  {
   "cell_type": "code",
   "execution_count": 1,
   "id": "1e1bb402",
   "metadata": {
    "execution": {
     "iopub.execute_input": "2023-05-28T10:14:10.378871Z",
     "iopub.status.busy": "2023-05-28T10:14:10.378871Z",
     "iopub.status.idle": "2023-05-28T10:14:10.470468Z",
     "shell.execute_reply": "2023-05-28T10:14:10.470468Z"
    }
   },
   "outputs": [],
   "source": [
    "import numpy as np\n",
    "\n",
    "data = (\n",
    "    np.random.normal(size=(100, 3)) * np.array([[1, 1, 1]]) + np.array([[48, 5, 1]])\n",
    ").tolist()"
   ]
  },
  {
   "cell_type": "code",
   "execution_count": 2,
   "id": "2e32ef91",
   "metadata": {
    "execution": {
     "iopub.execute_input": "2023-05-28T10:14:10.473472Z",
     "iopub.status.busy": "2023-05-28T10:14:10.473472Z",
     "iopub.status.idle": "2023-05-28T10:14:11.141243Z",
     "shell.execute_reply": "2023-05-28T10:14:11.141243Z"
    }
   },
   "outputs": [
    {
     "data": {
      "text/html": [
       "<div style=\"width:100%;\"><div style=\"position:relative;width:100%;height:0;padding-bottom:60%;\"><span style=\"color:#565656\">Make this Notebook Trusted to load map: File -> Trust Notebook</span><iframe srcdoc=\"&lt;!DOCTYPE html&gt;\n",
       "&lt;html&gt;\n",
       "&lt;head&gt;\n",
       "    \n",
       "    &lt;meta http-equiv=&quot;content-type&quot; content=&quot;text/html; charset=UTF-8&quot; /&gt;\n",
       "    \n",
       "        &lt;script&gt;\n",
       "            L_NO_TOUCH = false;\n",
       "            L_DISABLE_3D = false;\n",
       "        &lt;/script&gt;\n",
       "    \n",
       "    &lt;style&gt;html, body {width: 100%;height: 100%;margin: 0;padding: 0;}&lt;/style&gt;\n",
       "    &lt;style&gt;#map {position:absolute;top:0;bottom:0;right:0;left:0;}&lt;/style&gt;\n",
       "    &lt;script src=&quot;https://cdn.jsdelivr.net/npm/leaflet@1.9.3/dist/leaflet.js&quot;&gt;&lt;/script&gt;\n",
       "    &lt;script src=&quot;https://code.jquery.com/jquery-1.12.4.min.js&quot;&gt;&lt;/script&gt;\n",
       "    &lt;script src=&quot;https://cdn.jsdelivr.net/npm/bootstrap@5.2.2/dist/js/bootstrap.bundle.min.js&quot;&gt;&lt;/script&gt;\n",
       "    &lt;script src=&quot;https://cdnjs.cloudflare.com/ajax/libs/Leaflet.awesome-markers/2.0.2/leaflet.awesome-markers.js&quot;&gt;&lt;/script&gt;\n",
       "    &lt;link rel=&quot;stylesheet&quot; href=&quot;https://cdn.jsdelivr.net/npm/leaflet@1.9.3/dist/leaflet.css&quot;/&gt;\n",
       "    &lt;link rel=&quot;stylesheet&quot; href=&quot;https://cdn.jsdelivr.net/npm/bootstrap@5.2.2/dist/css/bootstrap.min.css&quot;/&gt;\n",
       "    &lt;link rel=&quot;stylesheet&quot; href=&quot;https://netdna.bootstrapcdn.com/bootstrap/3.0.0/css/bootstrap.min.css&quot;/&gt;\n",
       "    &lt;link rel=&quot;stylesheet&quot; href=&quot;https://cdn.jsdelivr.net/npm/@fortawesome/fontawesome-free@6.2.0/css/all.min.css&quot;/&gt;\n",
       "    &lt;link rel=&quot;stylesheet&quot; href=&quot;https://cdnjs.cloudflare.com/ajax/libs/Leaflet.awesome-markers/2.0.2/leaflet.awesome-markers.css&quot;/&gt;\n",
       "    &lt;link rel=&quot;stylesheet&quot; href=&quot;https://cdn.jsdelivr.net/gh/python-visualization/folium/folium/templates/leaflet.awesome.rotate.min.css&quot;/&gt;\n",
       "    \n",
       "            &lt;meta name=&quot;viewport&quot; content=&quot;width=device-width,\n",
       "                initial-scale=1.0, maximum-scale=1.0, user-scalable=no&quot; /&gt;\n",
       "            &lt;style&gt;\n",
       "                #map_55fd289687b1a5f40a22d58e237171ed {\n",
       "                    position: relative;\n",
       "                    width: 100.0%;\n",
       "                    height: 100.0%;\n",
       "                    left: 0.0%;\n",
       "                    top: 0.0%;\n",
       "                }\n",
       "                .leaflet-container { font-size: 1rem; }\n",
       "            &lt;/style&gt;\n",
       "        \n",
       "    &lt;script src=&quot;https://cdn.jsdelivr.net/gh/python-visualization/folium@main/folium/templates/leaflet_heat.min.js&quot;&gt;&lt;/script&gt;\n",
       "&lt;/head&gt;\n",
       "&lt;body&gt;\n",
       "    \n",
       "    \n",
       "            &lt;div class=&quot;folium-map&quot; id=&quot;map_55fd289687b1a5f40a22d58e237171ed&quot; &gt;&lt;/div&gt;\n",
       "        \n",
       "&lt;/body&gt;\n",
       "&lt;script&gt;\n",
       "    \n",
       "    \n",
       "            var map_55fd289687b1a5f40a22d58e237171ed = L.map(\n",
       "                &quot;map_55fd289687b1a5f40a22d58e237171ed&quot;,\n",
       "                {\n",
       "                    center: [48.0, 5.0],\n",
       "                    crs: L.CRS.EPSG3857,\n",
       "                    zoom: 6,\n",
       "                    zoomControl: true,\n",
       "                    preferCanvas: false,\n",
       "                }\n",
       "            );\n",
       "\n",
       "            \n",
       "\n",
       "        \n",
       "    \n",
       "            var tile_layer_1e05cf2115596275ae5467dbee1b0dc1 = L.tileLayer(\n",
       "                &quot;https://stamen-tiles-{s}.a.ssl.fastly.net/toner/{z}/{x}/{y}.png&quot;,\n",
       "                {&quot;attribution&quot;: &quot;Map tiles by \\u003ca target=\\&quot;_blank\\&quot; href=\\&quot;http://stamen.com\\&quot;\\u003eStamen Design\\u003c/a\\u003e, under \\u003ca target=\\&quot;_blank\\&quot; href=\\&quot;http://creativecommons.org/licenses/by/3.0\\&quot;\\u003eCC BY 3.0\\u003c/a\\u003e. Data by \\u0026copy; \\u003ca target=\\&quot;_blank\\&quot; href=\\&quot;http://openstreetmap.org\\&quot;\\u003eOpenStreetMap\\u003c/a\\u003e, under \\u003ca target=\\&quot;_blank\\&quot; href=\\&quot;http://www.openstreetmap.org/copyright\\&quot;\\u003eODbL\\u003c/a\\u003e.&quot;, &quot;detectRetina&quot;: false, &quot;maxNativeZoom&quot;: 18, &quot;maxZoom&quot;: 18, &quot;minZoom&quot;: 0, &quot;noWrap&quot;: false, &quot;opacity&quot;: 1, &quot;subdomains&quot;: &quot;abc&quot;, &quot;tms&quot;: false}\n",
       "            );\n",
       "        \n",
       "    \n",
       "                tile_layer_1e05cf2115596275ae5467dbee1b0dc1.addTo(map_55fd289687b1a5f40a22d58e237171ed);\n",
       "    \n",
       "            var heat_map_f1a56eebccec61706996704d0c8a310b = L.heatLayer(\n",
       "                [[47.995772446132996, 3.9388801504383784, 1.5142009244947143], [49.77229238065283, 4.233457101545349, 0.27329833828979666], [46.600632084476054, 7.943379808571093, -0.6052265787355684], [48.46500229028427, 3.273055764907335, 0.7225558306493411], [47.884090454006646, 6.017641005731971, 1.6898626350831516], [48.80353003291816, 6.064981923116682, -0.31520053690345606], [46.36975142843493, 5.486320359727068, 1.0026638514488329], [49.74575146472273, 3.6312238339487415, 0.3004383777371268], [47.53757564712607, 4.277289748423473, 2.3238330147950457], [47.692676626322545, 4.966112778352558, 1.602680291390092], [48.284892682675654, 5.498707226566024, 0.012527103359720626], [48.50821164071198, 5.622733993759655, 1.0672466049483147], [48.72212121252726, 6.839639882598476, 0.03648505186076667], [48.70946263332781, 3.9908204702771366, 2.4417157020561073], [48.68443795089009, 3.5015003388308923, 2.315055424195201], [47.19249008179534, 4.83469042649632, 1.192331816968298], [47.73952560589656, 6.111831704199558, 0.4582887067614919], [49.033654810066984, 4.445786230238896, 1.2755781475353472], [49.165026141062626, 4.532162304175344, 0.5509939156441805], [46.56774401578462, 7.04174175571155, 1.835645426243488], [48.332488869774146, 5.2613711623179, 0.716765815748261], [47.569946845952636, 6.347016713742533, 1.2611380758244188], [47.312703605518216, 5.995583032202337, 0.23332319279953773], [49.58441599521131, 5.629647863113839, 1.7269695725071799], [47.3473517672612, 5.6000530262322075, 1.7980343988912448], [48.121230946932826, 3.3695437485497606, -0.16880440814276465], [48.51612723807782, 5.494028759070814, 1.6166458976260203], [47.404926259191996, 4.202989906374832, 0.4371093992820412], [48.18253743812062, 5.185909472675161, 1.0354470393294246], [50.070930782787265, 5.244204462228797, 2.153557378549692], [48.20649373340823, 6.337160702323868, 1.1234762537220426], [49.594654196468056, 5.347722372738116, 0.5828703556764463], [49.83862715379454, 4.934348821724152, 2.5681437389189563], [48.28591345922807, 4.944332872557955, 2.9101378862627407], [47.75898967104751, 6.043463592003796, 0.39073703608546606], [47.878354331013995, 5.854130980919216, 1.969093402577033], [47.12893338421959, 4.362064466597069, -0.9007530032001891], [47.46423158820183, 4.886274112143912, -0.07972167159277888], [48.259929014106625, 4.613485092715444, 1.078244169589889], [48.668049399900816, 4.482939927009706, -0.8783878018602578], [47.673157013111286, 4.319823978095684, -0.5611900508308589], [47.39183473101073, 5.1076105290965685, 0.61451983233923], [48.403353955646814, 5.236098416162971, 1.4753358198063382], [48.61619470291726, 7.071852314741012, 1.9740622660797662], [48.89405921432496, 5.649292245583506, 0.8735651076273745], [48.81332512106353, 4.149321792007684, -0.20805272651807982], [47.53186356228224, 4.411942205964705, 2.2367421214452357], [48.69498259552571, 6.624399992023005, 0.39507045532403484], [47.74610600132692, 3.604086500258913, 1.1138285655427498], [47.84321403859911, 5.233201122653112, 2.0258470294124677], [47.47747400126897, 6.933029774976302, 0.9368908105459879], [48.43185543735802, 4.968013918537158, 0.9529374864845047], [48.052641681430764, 4.352829159752702, -0.029145044928380326], [49.67917639808497, 5.045846658032316, -0.2760778826531818], [47.917856894521464, 4.845065608991315, 0.7813111689449339], [47.18437719522471, 3.421370875439856, 0.9293317114674011], [48.4042567065144, 5.571404004669728, 1.6451753360270633], [48.439940638186776, 4.177909989342274, 0.9628124881820388], [48.36588022288121, 4.188508258531352, 0.7987832532944834], [46.89585184207351, 5.881269426925977, 1.7014473577631102], [47.86965392948984, 7.376565146046447, 1.3556826777356346], [48.82928908114026, 6.353672271761942, -0.39730475776937246], [47.18887982624459, 4.721542146042799, 0.9576951903578084], [48.15175515875185, 4.181339686259728, 2.0888204307210008], [47.89687741498828, 3.182324275671848, 1.8704283794139371], [47.3455343419019, 4.524619202339891, 0.35055576501254404], [48.42123107532148, 4.137502366188279, 0.1477121865776777], [48.17240003699632, 6.849274365280578, 0.9755314974103094], [47.890449439066565, 5.205995119053949, 0.9110648882973221], [48.625904057339575, 6.465861356986249, 0.7006895988750124], [47.796704726214195, 3.266431188735645, 0.48952158798743295], [47.95321052891026, 4.633100151190151, -0.514678180105332], [47.238895545538426, 5.027748330640688, 2.061192026493951], [47.708282700577094, 3.945240334104387, 0.9841392231444287], [49.085080614232666, 5.391523076192292, 1.9281067182695621], [47.49420094689424, 5.533638834162428, 1.8573013051560334], [48.63318707958701, 5.746201439128553, 0.7033370107831666], [45.47354419234515, 6.555740488107498, 0.2730776078357109], [48.65740824399014, 5.5071868207687915, 0.032350904693466465], [48.91521773691503, 5.78431218050818, 2.3944998000224746], [47.11275449754173, 4.7133053033477035, 1.9608236080107129], [46.05538473726216, 3.9251206433393246, -0.07802144679942358], [48.33948113921026, 5.674514881071, -0.2783235499512511], [49.48184416149477, 5.662302229271453, 1.2870013893672758], [48.82549225436463, 5.023041322119467, -0.19672265973211323], [47.89734085973546, 6.524574041367709, 0.9839396410363466], [46.459517088654245, 6.377360353475924, 0.29907744747332055], [49.01096346970386, 5.193225552129929, 0.7056321853777106], [48.71252491660891, 3.991159173439503, 1.0116880217592608], [46.90213837090185, 4.69015781006169, 1.2317104308532856], [47.57449015793636, 2.8107139043472467, 0.5487192179551297], [48.97533032834163, 4.7298152950914005, -0.948478245612032], [47.172460892142865, 4.847688827069307, 1.5677085911147204], [46.778258713175305, 5.369555281058347, 1.5454615869697506], [49.08798551643812, 4.478206699334114, 0.5154127110208897], [47.73594379621087, 5.893677928768941, 0.7150003418237496], [49.890371658552176, 6.77219572613489, 1.6466096361815863], [46.47797283113855, 3.4144876832820836, -0.269287334124646], [47.5993484743366, 3.6901954759470375, -0.5692238244257859], [47.69765582703542, 5.3526673602516714, 1.096910368250683]],\n",
       "                {&quot;blur&quot;: 15, &quot;maxZoom&quot;: 18, &quot;minOpacity&quot;: 0.5, &quot;radius&quot;: 25}\n",
       "            );\n",
       "        \n",
       "    \n",
       "                heat_map_f1a56eebccec61706996704d0c8a310b.addTo(map_55fd289687b1a5f40a22d58e237171ed);\n",
       "&lt;/script&gt;\n",
       "&lt;/html&gt;\" style=\"position:absolute;width:100%;height:100%;left:0;top:0;border:none !important;\" allowfullscreen webkitallowfullscreen mozallowfullscreen></iframe></div></div>"
      ],
      "text/plain": [
       "<folium.folium.Map at 0x1baf5b8dd60>"
      ]
     },
     "execution_count": 2,
     "metadata": {},
     "output_type": "execute_result"
    }
   ],
   "source": [
    "import folium\n",
    "from folium.plugins import HeatMap\n",
    "\n",
    "m = folium.Map([48.0, 5.0], tiles=\"stamentoner\", zoom_start=6)\n",
    "\n",
    "HeatMap(data).add_to(m)\n",
    "\n",
    "m"
   ]
  }
 ],
 "metadata": {
  "jupytext": {
   "text_representation": {
    "extension": ".mystnb",
    "format_name": "myst"
   }
  },
  "language_info": {
   "codemirror_mode": {
    "name": "ipython",
    "version": 3
   },
   "file_extension": ".py",
   "mimetype": "text/x-python",
   "name": "python",
   "nbconvert_exporter": "python",
   "pygments_lexer": "ipython3",
   "version": "3.9.16"
  }
 },
 "nbformat": 4,
 "nbformat_minor": 5
}
