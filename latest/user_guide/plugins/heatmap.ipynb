{
 "cells": [
  {
   "cell_type": "markdown",
   "id": "a7f7b842",
   "metadata": {},
   "source": [
    "## Heatmap"
   ]
  },
  {
   "cell_type": "code",
   "execution_count": 1,
   "id": "89ed2b11",
   "metadata": {
    "execution": {
     "iopub.execute_input": "2023-09-06T10:21:22.388935Z",
     "iopub.status.busy": "2023-09-06T10:21:22.388519Z",
     "iopub.status.idle": "2023-09-06T10:21:22.449261Z",
     "shell.execute_reply": "2023-09-06T10:21:22.448757Z"
    }
   },
   "outputs": [],
   "source": [
    "import numpy as np\n",
    "\n",
    "data = (\n",
    "    np.random.normal(size=(100, 3)) * np.array([[1, 1, 1]]) + np.array([[48, 5, 1]])\n",
    ").tolist()"
   ]
  },
  {
   "cell_type": "code",
   "execution_count": 2,
   "id": "bdc84a73",
   "metadata": {
    "execution": {
     "iopub.execute_input": "2023-09-06T10:21:22.453089Z",
     "iopub.status.busy": "2023-09-06T10:21:22.452134Z",
     "iopub.status.idle": "2023-09-06T10:21:22.904993Z",
     "shell.execute_reply": "2023-09-06T10:21:22.904473Z"
    }
   },
   "outputs": [
    {
     "data": {
      "text/html": [
       "<div style=\"width:100%;\"><div style=\"position:relative;width:100%;height:0;padding-bottom:60%;\"><span style=\"color:#565656\">Make this Notebook Trusted to load map: File -> Trust Notebook</span><iframe srcdoc=\"&lt;!DOCTYPE html&gt;\n",
       "&lt;html&gt;\n",
       "&lt;head&gt;\n",
       "    \n",
       "    &lt;meta http-equiv=&quot;content-type&quot; content=&quot;text/html; charset=UTF-8&quot; /&gt;\n",
       "    \n",
       "        &lt;script&gt;\n",
       "            L_NO_TOUCH = false;\n",
       "            L_DISABLE_3D = false;\n",
       "        &lt;/script&gt;\n",
       "    \n",
       "    &lt;style&gt;html, body {width: 100%;height: 100%;margin: 0;padding: 0;}&lt;/style&gt;\n",
       "    &lt;style&gt;#map {position:absolute;top:0;bottom:0;right:0;left:0;}&lt;/style&gt;\n",
       "    &lt;script src=&quot;https://cdn.jsdelivr.net/npm/leaflet@1.9.3/dist/leaflet.js&quot;&gt;&lt;/script&gt;\n",
       "    &lt;script src=&quot;https://code.jquery.com/jquery-1.12.4.min.js&quot;&gt;&lt;/script&gt;\n",
       "    &lt;script src=&quot;https://cdn.jsdelivr.net/npm/bootstrap@5.2.2/dist/js/bootstrap.bundle.min.js&quot;&gt;&lt;/script&gt;\n",
       "    &lt;script src=&quot;https://cdnjs.cloudflare.com/ajax/libs/Leaflet.awesome-markers/2.0.2/leaflet.awesome-markers.js&quot;&gt;&lt;/script&gt;\n",
       "    &lt;link rel=&quot;stylesheet&quot; href=&quot;https://cdn.jsdelivr.net/npm/leaflet@1.9.3/dist/leaflet.css&quot;/&gt;\n",
       "    &lt;link rel=&quot;stylesheet&quot; href=&quot;https://cdn.jsdelivr.net/npm/bootstrap@5.2.2/dist/css/bootstrap.min.css&quot;/&gt;\n",
       "    &lt;link rel=&quot;stylesheet&quot; href=&quot;https://netdna.bootstrapcdn.com/bootstrap/3.0.0/css/bootstrap.min.css&quot;/&gt;\n",
       "    &lt;link rel=&quot;stylesheet&quot; href=&quot;https://cdn.jsdelivr.net/npm/@fortawesome/fontawesome-free@6.2.0/css/all.min.css&quot;/&gt;\n",
       "    &lt;link rel=&quot;stylesheet&quot; href=&quot;https://cdnjs.cloudflare.com/ajax/libs/Leaflet.awesome-markers/2.0.2/leaflet.awesome-markers.css&quot;/&gt;\n",
       "    &lt;link rel=&quot;stylesheet&quot; href=&quot;https://cdn.jsdelivr.net/gh/python-visualization/folium/folium/templates/leaflet.awesome.rotate.min.css&quot;/&gt;\n",
       "    \n",
       "            &lt;meta name=&quot;viewport&quot; content=&quot;width=device-width,\n",
       "                initial-scale=1.0, maximum-scale=1.0, user-scalable=no&quot; /&gt;\n",
       "            &lt;style&gt;\n",
       "                #map_1ec2a1ba15d130e65ab1deafee855b2c {\n",
       "                    position: relative;\n",
       "                    width: 100.0%;\n",
       "                    height: 100.0%;\n",
       "                    left: 0.0%;\n",
       "                    top: 0.0%;\n",
       "                }\n",
       "                .leaflet-container { font-size: 1rem; }\n",
       "            &lt;/style&gt;\n",
       "        \n",
       "    &lt;script src=&quot;https://cdn.jsdelivr.net/gh/python-visualization/folium@main/folium/templates/leaflet_heat.min.js&quot;&gt;&lt;/script&gt;\n",
       "&lt;/head&gt;\n",
       "&lt;body&gt;\n",
       "    \n",
       "    \n",
       "            &lt;div class=&quot;folium-map&quot; id=&quot;map_1ec2a1ba15d130e65ab1deafee855b2c&quot; &gt;&lt;/div&gt;\n",
       "        \n",
       "&lt;/body&gt;\n",
       "&lt;script&gt;\n",
       "    \n",
       "    \n",
       "            var map_1ec2a1ba15d130e65ab1deafee855b2c = L.map(\n",
       "                &quot;map_1ec2a1ba15d130e65ab1deafee855b2c&quot;,\n",
       "                {\n",
       "                    center: [48.0, 5.0],\n",
       "                    crs: L.CRS.EPSG3857,\n",
       "                    zoom: 6,\n",
       "                    zoomControl: true,\n",
       "                    preferCanvas: false,\n",
       "                }\n",
       "            );\n",
       "\n",
       "            \n",
       "\n",
       "        \n",
       "    \n",
       "            var tile_layer_bee691fb7c7a3bf88be4678034d95a1f = L.tileLayer(\n",
       "                &quot;https://stamen-tiles-{s}.a.ssl.fastly.net/toner/{z}/{x}/{y}.png&quot;,\n",
       "                {&quot;attribution&quot;: &quot;Map tiles by \\u003ca target=\\&quot;_blank\\&quot; href=\\&quot;http://stamen.com\\&quot;\\u003eStamen Design\\u003c/a\\u003e, under \\u003ca target=\\&quot;_blank\\&quot; href=\\&quot;http://creativecommons.org/licenses/by/3.0\\&quot;\\u003eCC BY 3.0\\u003c/a\\u003e. Data by \\u0026copy; \\u003ca target=\\&quot;_blank\\&quot; href=\\&quot;http://openstreetmap.org\\&quot;\\u003eOpenStreetMap\\u003c/a\\u003e, under \\u003ca target=\\&quot;_blank\\&quot; href=\\&quot;http://www.openstreetmap.org/copyright\\&quot;\\u003eODbL\\u003c/a\\u003e.&quot;, &quot;detectRetina&quot;: false, &quot;maxNativeZoom&quot;: 18, &quot;maxZoom&quot;: 18, &quot;minZoom&quot;: 0, &quot;noWrap&quot;: false, &quot;opacity&quot;: 1, &quot;subdomains&quot;: &quot;abc&quot;, &quot;tms&quot;: false}\n",
       "            );\n",
       "        \n",
       "    \n",
       "                tile_layer_bee691fb7c7a3bf88be4678034d95a1f.addTo(map_1ec2a1ba15d130e65ab1deafee855b2c);\n",
       "    \n",
       "            var heat_map_7080d7ad5052212f5b608affd43bbc65 = L.heatLayer(\n",
       "                [[50.263256139032876, 5.5366397951646, 0.3929030269347158], [46.865192552951385, 4.805812772731588, 0.6666563095440154], [50.75165653283218, 5.56509619787396, 1.148296040773907], [47.95245230573508, 2.823769889758128, 0.5346295275275261], [46.53802961716419, 6.101758227378087, 1.30954830570837], [48.94333764501848, 4.8208039488783205, 1.745842502804536], [47.09195282283363, 4.922637937220745, 0.2666761066069452], [47.56766201270087, 4.755021875008916, 2.0028350445022634], [47.99313446364579, 4.381764756645309, 0.3176013370648505], [48.03122568829668, 4.494417125652622, 3.0002034896295617], [47.642718243713034, 6.212618107992725, 1.0150678913760245], [48.86123647053711, 5.418811506900739, 0.5188674797831629], [49.91954679549035, 5.2294711930041755, 1.0602111740636246], [47.465024851498725, 5.798500735433128, 1.1637636913617884], [47.32098715426428, 4.709345010086498, 1.213569750299998], [48.33452614535116, 4.477652535563305, 1.383156070912519], [48.91648980938239, 4.903155125991776, 0.5802115902188272], [49.062977016829656, 5.980218685034477, 0.6317633326064045], [45.846980919898364, 3.5861368353923675, 2.1100170696783573], [48.282039129873624, 4.513280961187766, 1.1609044498229726], [47.416921600411825, 6.234382014286245, -1.1439582112144762], [48.910223642557675, 3.857456778752866, -0.5917591871713523], [47.04784040799363, 4.46168219431531, -0.0034703156756485942], [47.34177508957908, 5.8918682597763175, 0.9970771178187104], [47.533142436890415, 5.536903249708553, -0.0441115473357121], [46.97878673439883, 2.355812562650246, 0.35181781524237965], [48.27118301235048, 5.465759730240902, 1.475400150017922], [46.887350205437535, 6.684765539607043, 1.7394632221615027], [46.46638173979332, 6.161540263711471, 2.7192609404115338], [47.82942951474571, 4.214055356389616, 1.0242921226650092], [48.042210683790294, 4.449520701437009, 0.40169347941407896], [46.771985667436695, 5.505890606461905, 0.1516707794814265], [48.57299610461019, 4.890988753608991, -0.5779100422085215], [46.762821297303525, 4.532801672445034, -0.033155782800091016], [51.01831828462264, 5.60888553881383, 1.0582392540956387], [48.54275117112701, 4.488132331524534, 0.7455132486725667], [48.68422675620355, 4.7439100268778205, 0.33299514055292045], [45.698493523093504, 5.933444855277938, 0.29528823420258976], [46.999636087922134, 4.04628759352569, 1.0023289037494871], [49.0212079660585, 5.174087505008817, 2.130225963427019], [48.13724171653523, 5.134844791685062, 1.0472610212925948], [47.280626923370896, 4.836489444069337, -0.95153583592213], [46.86912877240813, 3.762500264320601, -0.6920807408421461], [48.15006471181381, 6.062090451200292, 1.6826183686241132], [48.17834940606569, 5.467573184749279, 0.5918947293058944], [46.64342257746172, 6.180403647672536, 1.8874226283682236], [48.73147794894512, 3.9752132166624583, 0.9271628239082284], [48.30142821129855, 3.7128648328967113, 0.652237658013177], [47.92792219484462, 6.224024845623676, 1.5011527146953427], [48.02166461928147, 5.235452235634624, 0.3804872518084568], [48.75370189787325, 4.807596586318676, -0.44976737143370804], [47.40669520173876, 3.667718135296904, 1.7080873896164954], [47.65026560978468, 3.5225306304425086, 2.3727334797177737], [48.2896316737496, 6.108869766587754, 0.2907046999470606], [48.00668010658422, 4.097244986351177, 1.3564271266077652], [48.49722811064319, 3.436530741082935, 0.7531475939419082], [46.79121777135666, 3.537333049138527, 0.7341253083771282], [47.97501834028162, 4.227568236957821, 2.206294437297154], [47.888592152761355, 5.290175458356403, 0.27612803425918087], [49.387345731638256, 3.2015464199908434, 0.22153670459385888], [50.01656777503754, 4.528375287531539, 1.0404846737174018], [48.77573309257482, 3.4893051240702664, 1.4458998180074323], [47.70094168141501, 5.473496708285733, 1.249519274927323], [46.70590819646668, 5.340434872297154, 2.4860585633655843], [47.777121753367986, 3.09314540621662, 2.589537036527105], [49.40250687130173, 4.845071882738177, 0.8155643634717732], [48.22457658251858, 4.695938417369335, -1.0544983978109022], [48.81219087103773, 4.3419258529405305, -0.5859947825486969], [47.036410227782774, 5.545105575101848, 2.560050245399531], [48.84921232330447, 4.921127157633682, 0.9546724082752414], [49.42631415108467, 5.019736277170602, -0.6875979434180959], [47.23070824509354, 6.555537813073666, 3.5713434848307477], [48.558209558089914, 5.390138557144626, 2.1191715199344285], [48.74782413945996, 5.528888820079731, 3.2222686977391253], [45.84951998815071, 5.4069733351829115, 1.9754734118427755], [47.77707218618581, 6.224867379164256, 0.897423209448078], [47.54282800365077, 2.797808566277383, 1.0058384016048671], [47.80557940214752, 6.269425674538594, -1.427675959471483], [48.95639299832389, 3.8166058053553895, 2.703249014411453], [47.0247651520594, 4.603109799250824, 0.8851719654747888], [48.41886926293115, 4.856437741068692, 1.727044493910868], [49.25039799210721, 5.9821296559826855, -0.0034266534437614737], [47.23736579405194, 5.218064620365516, 0.3077765621030103], [48.71498296264974, 4.832916577686758, -1.367881922356001], [47.411877631493276, 4.324067858821806, 2.086923053553104], [48.96221227237869, 6.259860279340693, 1.602613467807198], [48.151193192301506, 5.061052152723628, 0.1885372667381331], [47.459099499390284, 6.081639036055304, -0.844533562900222], [45.37822210086128, 4.605254890592233, 1.3610968344681802], [47.558558391693104, 4.187747522711568, 1.2019282174683064], [47.30196962464637, 4.2300062934482385, 0.41507820576504395], [48.22203688497909, 5.4042100711876335, -0.17252283730529006], [47.96747420726031, 6.069214736785222, 1.3561603807575213], [46.132374967220386, 5.829016512811589, -0.09068724194468625], [46.259355355768086, 3.349691599278959, 1.8042161558091738], [47.15204217859299, 4.545925450782978, 0.2321182617025912], [48.491320965493124, 4.96766129867154, 0.6682218595722773], [49.63464058499816, 3.662781565151377, -0.9293592000952633], [48.016183455691696, 5.72564677997377, 0.18459019255610531], [47.45686542276673, 4.284150052380946, -0.3341542745178536]],\n",
       "                {&quot;blur&quot;: 15, &quot;maxZoom&quot;: 18, &quot;minOpacity&quot;: 0.5, &quot;radius&quot;: 25}\n",
       "            );\n",
       "        \n",
       "    \n",
       "                heat_map_7080d7ad5052212f5b608affd43bbc65.addTo(map_1ec2a1ba15d130e65ab1deafee855b2c);\n",
       "&lt;/script&gt;\n",
       "&lt;/html&gt;\" style=\"position:absolute;width:100%;height:100%;left:0;top:0;border:none !important;\" allowfullscreen webkitallowfullscreen mozallowfullscreen></iframe></div></div>"
      ],
      "text/plain": [
       "<folium.folium.Map at 0x7f52e03b8790>"
      ]
     },
     "execution_count": 2,
     "metadata": {},
     "output_type": "execute_result"
    }
   ],
   "source": [
    "import folium\n",
    "from folium.plugins import HeatMap\n",
    "\n",
    "m = folium.Map([48.0, 5.0], tiles=\"stamentoner\", zoom_start=6)\n",
    "\n",
    "HeatMap(data).add_to(m)\n",
    "\n",
    "m"
   ]
  }
 ],
 "metadata": {
  "jupytext": {
   "text_representation": {
    "extension": ".mystnb",
    "format_name": "myst"
   }
  },
  "language_info": {
   "codemirror_mode": {
    "name": "ipython",
    "version": 3
   },
   "file_extension": ".py",
   "mimetype": "text/x-python",
   "name": "python",
   "nbconvert_exporter": "python",
   "pygments_lexer": "ipython3",
   "version": "3.11.5"
  }
 },
 "nbformat": 4,
 "nbformat_minor": 5
}
