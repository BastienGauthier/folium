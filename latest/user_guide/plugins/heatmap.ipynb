{
 "cells": [
  {
   "cell_type": "markdown",
   "id": "0c291447",
   "metadata": {},
   "source": [
    "## Heatmap"
   ]
  },
  {
   "cell_type": "code",
   "execution_count": 1,
   "id": "54379d25",
   "metadata": {
    "execution": {
     "iopub.execute_input": "2023-05-28T09:06:51.849717Z",
     "iopub.status.busy": "2023-05-28T09:06:51.848715Z",
     "iopub.status.idle": "2023-05-28T09:06:51.940116Z",
     "shell.execute_reply": "2023-05-28T09:06:51.940116Z"
    }
   },
   "outputs": [],
   "source": [
    "import numpy as np\n",
    "\n",
    "data = (\n",
    "    np.random.normal(size=(100, 3)) * np.array([[1, 1, 1]]) + np.array([[48, 5, 1]])\n",
    ").tolist()"
   ]
  },
  {
   "cell_type": "code",
   "execution_count": 2,
   "id": "9dc0d423",
   "metadata": {
    "execution": {
     "iopub.execute_input": "2023-05-28T09:06:51.943118Z",
     "iopub.status.busy": "2023-05-28T09:06:51.942117Z",
     "iopub.status.idle": "2023-05-28T09:06:52.594215Z",
     "shell.execute_reply": "2023-05-28T09:06:52.594215Z"
    }
   },
   "outputs": [
    {
     "data": {
      "text/html": [
       "<div style=\"width:100%;\"><div style=\"position:relative;width:100%;height:0;padding-bottom:60%;\"><span style=\"color:#565656\">Make this Notebook Trusted to load map: File -> Trust Notebook</span><iframe srcdoc=\"&lt;!DOCTYPE html&gt;\n",
       "&lt;html&gt;\n",
       "&lt;head&gt;\n",
       "    \n",
       "    &lt;meta http-equiv=&quot;content-type&quot; content=&quot;text/html; charset=UTF-8&quot; /&gt;\n",
       "    \n",
       "        &lt;script&gt;\n",
       "            L_NO_TOUCH = false;\n",
       "            L_DISABLE_3D = false;\n",
       "        &lt;/script&gt;\n",
       "    \n",
       "    &lt;style&gt;html, body {width: 100%;height: 100%;margin: 0;padding: 0;}&lt;/style&gt;\n",
       "    &lt;style&gt;#map {position:absolute;top:0;bottom:0;right:0;left:0;}&lt;/style&gt;\n",
       "    &lt;script src=&quot;https://cdn.jsdelivr.net/npm/leaflet@1.9.3/dist/leaflet.js&quot;&gt;&lt;/script&gt;\n",
       "    &lt;script src=&quot;https://code.jquery.com/jquery-1.12.4.min.js&quot;&gt;&lt;/script&gt;\n",
       "    &lt;script src=&quot;https://cdn.jsdelivr.net/npm/bootstrap@5.2.2/dist/js/bootstrap.bundle.min.js&quot;&gt;&lt;/script&gt;\n",
       "    &lt;script src=&quot;https://cdnjs.cloudflare.com/ajax/libs/Leaflet.awesome-markers/2.0.2/leaflet.awesome-markers.js&quot;&gt;&lt;/script&gt;\n",
       "    &lt;link rel=&quot;stylesheet&quot; href=&quot;https://cdn.jsdelivr.net/npm/leaflet@1.9.3/dist/leaflet.css&quot;/&gt;\n",
       "    &lt;link rel=&quot;stylesheet&quot; href=&quot;https://cdn.jsdelivr.net/npm/bootstrap@5.2.2/dist/css/bootstrap.min.css&quot;/&gt;\n",
       "    &lt;link rel=&quot;stylesheet&quot; href=&quot;https://netdna.bootstrapcdn.com/bootstrap/3.0.0/css/bootstrap.min.css&quot;/&gt;\n",
       "    &lt;link rel=&quot;stylesheet&quot; href=&quot;https://cdn.jsdelivr.net/npm/@fortawesome/fontawesome-free@6.2.0/css/all.min.css&quot;/&gt;\n",
       "    &lt;link rel=&quot;stylesheet&quot; href=&quot;https://cdnjs.cloudflare.com/ajax/libs/Leaflet.awesome-markers/2.0.2/leaflet.awesome-markers.css&quot;/&gt;\n",
       "    &lt;link rel=&quot;stylesheet&quot; href=&quot;https://cdn.jsdelivr.net/gh/python-visualization/folium/folium/templates/leaflet.awesome.rotate.min.css&quot;/&gt;\n",
       "    \n",
       "            &lt;meta name=&quot;viewport&quot; content=&quot;width=device-width,\n",
       "                initial-scale=1.0, maximum-scale=1.0, user-scalable=no&quot; /&gt;\n",
       "            &lt;style&gt;\n",
       "                #map_99e0fcd4be7fb18d9636e2e6e9f5027f {\n",
       "                    position: relative;\n",
       "                    width: 100.0%;\n",
       "                    height: 100.0%;\n",
       "                    left: 0.0%;\n",
       "                    top: 0.0%;\n",
       "                }\n",
       "                .leaflet-container { font-size: 1rem; }\n",
       "            &lt;/style&gt;\n",
       "        \n",
       "    &lt;script src=&quot;https://cdn.jsdelivr.net/gh/python-visualization/folium@main/folium/templates/leaflet_heat.min.js&quot;&gt;&lt;/script&gt;\n",
       "&lt;/head&gt;\n",
       "&lt;body&gt;\n",
       "    \n",
       "    \n",
       "            &lt;div class=&quot;folium-map&quot; id=&quot;map_99e0fcd4be7fb18d9636e2e6e9f5027f&quot; &gt;&lt;/div&gt;\n",
       "        \n",
       "&lt;/body&gt;\n",
       "&lt;script&gt;\n",
       "    \n",
       "    \n",
       "            var map_99e0fcd4be7fb18d9636e2e6e9f5027f = L.map(\n",
       "                &quot;map_99e0fcd4be7fb18d9636e2e6e9f5027f&quot;,\n",
       "                {\n",
       "                    center: [48.0, 5.0],\n",
       "                    crs: L.CRS.EPSG3857,\n",
       "                    zoom: 6,\n",
       "                    zoomControl: true,\n",
       "                    preferCanvas: false,\n",
       "                }\n",
       "            );\n",
       "\n",
       "            \n",
       "\n",
       "        \n",
       "    \n",
       "            var tile_layer_9bb5c30f89f0600546225912623ff863 = L.tileLayer(\n",
       "                &quot;https://stamen-tiles-{s}.a.ssl.fastly.net/toner/{z}/{x}/{y}.png&quot;,\n",
       "                {&quot;attribution&quot;: &quot;Map tiles by \\u003ca target=\\&quot;_blank\\&quot; href=\\&quot;http://stamen.com\\&quot;\\u003eStamen Design\\u003c/a\\u003e, under \\u003ca target=\\&quot;_blank\\&quot; href=\\&quot;http://creativecommons.org/licenses/by/3.0\\&quot;\\u003eCC BY 3.0\\u003c/a\\u003e. Data by \\u0026copy; \\u003ca target=\\&quot;_blank\\&quot; href=\\&quot;http://openstreetmap.org\\&quot;\\u003eOpenStreetMap\\u003c/a\\u003e, under \\u003ca target=\\&quot;_blank\\&quot; href=\\&quot;http://www.openstreetmap.org/copyright\\&quot;\\u003eODbL\\u003c/a\\u003e.&quot;, &quot;detectRetina&quot;: false, &quot;maxNativeZoom&quot;: 18, &quot;maxZoom&quot;: 18, &quot;minZoom&quot;: 0, &quot;noWrap&quot;: false, &quot;opacity&quot;: 1, &quot;subdomains&quot;: &quot;abc&quot;, &quot;tms&quot;: false}\n",
       "            );\n",
       "        \n",
       "    \n",
       "                tile_layer_9bb5c30f89f0600546225912623ff863.addTo(map_99e0fcd4be7fb18d9636e2e6e9f5027f);\n",
       "    \n",
       "            var heat_map_a603203cc6dcc055bbfd55ba8570ec8f = L.heatLayer(\n",
       "                [[47.267375979852005, 5.08070926815159, 1.8287066615089176], [47.03303101973934, 4.998091773843912, 2.2680558728137274], [49.10296324244503, 6.116142542357951, 3.355808921785763], [49.72104117375034, 4.6798567711834735, 0.08992545453342649], [48.38961178072737, 5.067249527561835, 2.0590121048898506], [47.56774726342076, 5.3332642873712315, 1.5020569192193551], [47.90358774799902, 5.038663890300908, -0.780208290283467], [48.61163394910972, 4.926421112629342, 0.9425594298412536], [48.92380120781593, 4.6279477626589545, 0.4046748109368683], [45.486652585499776, 4.7569874473874485, 1.4851786720307256], [48.17140585797562, 4.76073363425634, 0.414072045557921], [49.25763438217295, 5.051890011542627, 2.631815064973483], [48.74795067866169, 4.546373458714277, 1.752131848879619], [48.61506419596795, 5.881958962803287, 2.7251945351534403], [48.08746485113426, 5.600275094259035, -0.11137689604830348], [48.97262475311636, 4.948862633853372, -0.5870062611036913], [49.43531166047466, 4.53875573229444, 0.9106679790135968], [45.835673376191245, 4.634171106318897, -0.3299046695456631], [47.98347984095535, 4.747764342533797, 3.18173157223902], [47.68649334174408, 4.309413718965891, 0.15852402885870276], [48.409605974638126, 4.329057080932322, 0.2950090997373406], [49.45964479676938, 4.973572221094206, 1.4125706730423637], [47.76565286319563, 5.468478630438624, 2.516611440065871], [48.80344600742398, 6.0645113304448675, 0.6138428373118314], [49.16040577953923, 3.975049582118957, -0.2583249159646437], [48.95147080373098, 4.645206407932615, 0.13199594479293741], [48.59997036049294, 3.8837633524842854, 0.7450568472473751], [47.97481731465495, 4.645399728273959, 0.4669218361781191], [45.15260464328034, 4.223344664099887, -0.17221010229492562], [48.8140882905284, 4.279208384591904, 0.9752225488310717], [48.77048231551308, 6.010708379804205, -0.685076269953131], [48.383460602034866, 6.922146969400902, -0.11347198439414785], [48.29399104145388, 4.86532686374153, 2.2242115962210494], [45.599836680084735, 5.956299936494954, -0.027061443105445893], [49.002899646352226, 5.109743353995145, 0.8531442156916724], [47.715386785245364, 4.362490507635883, 2.4137640706815384], [49.0603869843657, 4.276289106532726, 1.946907252004487], [46.9743477990845, 4.675075228552872, 2.2660882481769296], [46.16666743415887, 5.2471103876743435, 0.0338776270559914], [47.63302840828135, 4.944270277186651, 1.0631839763022393], [46.84176932589707, 6.051304143362432, 1.6957069369845053], [49.851985010764906, 3.073226557623432, 1.3376818365626537], [48.543357069204106, 4.591939111823679, 0.7043439104281248], [50.28432818784472, 3.8354264548183785, -0.5922607055625857], [47.665101201902765, 6.248462741668617, 2.6601101990235136], [49.01907795781927, 4.746680658100438, 0.7516665443735167], [46.21929805954028, 3.9202269927079625, -1.229899769029557], [49.27229593060673, 5.775901795286937, -0.9562507574323047], [47.22648858742669, 3.1389517502584052, 1.6508576061368956], [49.33623142648109, 3.316029523560586, 1.2880844530721838], [49.523311962869734, 3.8706821859056424, 1.1683575704367417], [49.29831205220081, 3.813268680593361, 1.5348232043244177], [46.35431188474078, 5.766066182769214, 1.2845464093348344], [46.944031966381786, 5.551002591406288, 1.7505173765400321], [47.74916436371828, 4.998469385972895, -0.9724765973057188], [48.58280518392033, 3.739026357254161, 1.324424605177703], [47.73940746581026, 4.631692371830415, 3.336108945621236], [46.95012123811754, 5.399217283181663, -0.28084815384472406], [48.02646138074309, 6.487299945996498, 1.5901979635117018], [47.20289796213015, 4.472828086472912, 1.7595097110261817], [46.52588457242289, 4.402381331961927, 0.022732284458410357], [48.47410713624272, 4.267706027763634, 0.8753397600815905], [46.69505721673279, 5.270052268620116, 0.07859021563050672], [49.76744732508125, 4.019615303005041, 1.3469999533103212], [47.56190609239359, 4.675731171759113, 0.4753833381809066], [47.49547323929392, 4.825258807413976, 1.2420999615858228], [47.68700965675271, 3.763917949647368, 2.729105416249025], [49.67254927203262, 5.789196122399135, 1.6183527811472245], [48.92077866898223, 5.280818419915544, 0.2630922283361242], [47.60272608004099, 4.938633721727082, 0.8079064475459641], [46.86044571951429, 4.147279268910165, -0.5323255149671782], [49.40525743617503, 5.430099600590054, 2.157896300555984], [48.65992695489653, 5.109943784391132, 0.5799040339308439], [49.64730845094687, 5.759615326097707, 0.5756040768619586], [49.38476135517969, 5.755082562384976, -0.37611010814002954], [49.04126882403104, 5.613862875423357, 2.0088786410130455], [48.29122622167695, 5.637597434978314, 0.6970424248085745], [48.60699380809049, 6.177160659346778, 0.7335917443430509], [48.01508930644905, 4.85260357712915, 1.3335140617376133], [45.87665816432079, 6.330570285930818, 1.1161320487912618], [48.7770765063112, 3.2399992635493158, 1.085868079543255], [48.424214840225424, 5.197477426091156, 0.24443154273216938], [48.77804308291793, 5.79916191820816, 1.1585947974756239], [49.52914153629153, 5.577842698646616, -0.31128075731109583], [46.3305480541549, 5.2012718919238266, 0.6825134933418057], [46.62663652941234, 5.490820037990334, 0.07842360474230892], [45.797275311069555, 4.839703813313796, 1.7157093686807583], [47.925126096088555, 5.725498813731829, 2.5736442289620203], [48.84741718496326, 5.506401134685407, 1.199633914423282], [47.53601657107495, 3.2425640608116946, 0.7541431127454776], [48.613440291519204, 5.781665242690056, 1.7433579912367305], [47.164220586995576, 5.210196560851907, 0.8336277941705017], [49.26300548304036, 3.6594727367015563, -0.26398548997080495], [48.01546601521286, 4.151918134660134, 1.303999721472449], [46.61586444847664, 7.6232816192922535, 2.347489238490633], [47.39188370596925, 5.7939666649641195, 0.671595950695268], [48.81756110309618, 5.859967832914694, 0.3664131750750097], [47.98657261829338, 4.483288201281084, 1.4323771345519927], [45.77947587669566, 4.980230566736129, -0.013521056317018942], [48.62118016600998, 5.737669432462463, 0.7153652586771615]],\n",
       "                {&quot;blur&quot;: 15, &quot;maxZoom&quot;: 18, &quot;minOpacity&quot;: 0.5, &quot;radius&quot;: 25}\n",
       "            );\n",
       "        \n",
       "    \n",
       "                heat_map_a603203cc6dcc055bbfd55ba8570ec8f.addTo(map_99e0fcd4be7fb18d9636e2e6e9f5027f);\n",
       "&lt;/script&gt;\n",
       "&lt;/html&gt;\" style=\"position:absolute;width:100%;height:100%;left:0;top:0;border:none !important;\" allowfullscreen webkitallowfullscreen mozallowfullscreen></iframe></div></div>"
      ],
      "text/plain": [
       "<folium.folium.Map at 0x1396bd5cbb0>"
      ]
     },
     "execution_count": 2,
     "metadata": {},
     "output_type": "execute_result"
    }
   ],
   "source": [
    "import folium\n",
    "from folium.plugins import HeatMap\n",
    "\n",
    "m = folium.Map([48.0, 5.0], tiles=\"stamentoner\", zoom_start=6)\n",
    "\n",
    "HeatMap(data).add_to(m)\n",
    "\n",
    "m"
   ]
  }
 ],
 "metadata": {
  "jupytext": {
   "text_representation": {
    "extension": ".mystnb",
    "format_name": "myst"
   }
  },
  "language_info": {
   "codemirror_mode": {
    "name": "ipython",
    "version": 3
   },
   "file_extension": ".py",
   "mimetype": "text/x-python",
   "name": "python",
   "nbconvert_exporter": "python",
   "pygments_lexer": "ipython3",
   "version": "3.9.16"
  }
 },
 "nbformat": 4,
 "nbformat_minor": 5
}
