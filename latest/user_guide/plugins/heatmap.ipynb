{
 "cells": [
  {
   "cell_type": "markdown",
   "id": "5d5e4a17",
   "metadata": {},
   "source": [
    "## Heatmap"
   ]
  },
  {
   "cell_type": "code",
   "execution_count": 1,
   "id": "aa8f133c",
   "metadata": {
    "execution": {
     "iopub.execute_input": "2023-09-05T17:06:26.140669Z",
     "iopub.status.busy": "2023-09-05T17:06:26.140273Z",
     "iopub.status.idle": "2023-09-05T17:06:26.228395Z",
     "shell.execute_reply": "2023-09-05T17:06:26.227718Z"
    }
   },
   "outputs": [],
   "source": [
    "import numpy as np\n",
    "\n",
    "data = (\n",
    "    np.random.normal(size=(100, 3)) * np.array([[1, 1, 1]]) + np.array([[48, 5, 1]])\n",
    ").tolist()"
   ]
  },
  {
   "cell_type": "code",
   "execution_count": 2,
   "id": "9c3c2a8f",
   "metadata": {
    "execution": {
     "iopub.execute_input": "2023-09-05T17:06:26.233237Z",
     "iopub.status.busy": "2023-09-05T17:06:26.231976Z",
     "iopub.status.idle": "2023-09-05T17:06:26.827526Z",
     "shell.execute_reply": "2023-09-05T17:06:26.826826Z"
    }
   },
   "outputs": [
    {
     "data": {
      "text/html": [
       "<div style=\"width:100%;\"><div style=\"position:relative;width:100%;height:0;padding-bottom:60%;\"><span style=\"color:#565656\">Make this Notebook Trusted to load map: File -> Trust Notebook</span><iframe srcdoc=\"&lt;!DOCTYPE html&gt;\n",
       "&lt;html&gt;\n",
       "&lt;head&gt;\n",
       "    \n",
       "    &lt;meta http-equiv=&quot;content-type&quot; content=&quot;text/html; charset=UTF-8&quot; /&gt;\n",
       "    \n",
       "        &lt;script&gt;\n",
       "            L_NO_TOUCH = false;\n",
       "            L_DISABLE_3D = false;\n",
       "        &lt;/script&gt;\n",
       "    \n",
       "    &lt;style&gt;html, body {width: 100%;height: 100%;margin: 0;padding: 0;}&lt;/style&gt;\n",
       "    &lt;style&gt;#map {position:absolute;top:0;bottom:0;right:0;left:0;}&lt;/style&gt;\n",
       "    &lt;script src=&quot;https://cdn.jsdelivr.net/npm/leaflet@1.9.3/dist/leaflet.js&quot;&gt;&lt;/script&gt;\n",
       "    &lt;script src=&quot;https://code.jquery.com/jquery-1.12.4.min.js&quot;&gt;&lt;/script&gt;\n",
       "    &lt;script src=&quot;https://cdn.jsdelivr.net/npm/bootstrap@5.2.2/dist/js/bootstrap.bundle.min.js&quot;&gt;&lt;/script&gt;\n",
       "    &lt;script src=&quot;https://cdnjs.cloudflare.com/ajax/libs/Leaflet.awesome-markers/2.0.2/leaflet.awesome-markers.js&quot;&gt;&lt;/script&gt;\n",
       "    &lt;link rel=&quot;stylesheet&quot; href=&quot;https://cdn.jsdelivr.net/npm/leaflet@1.9.3/dist/leaflet.css&quot;/&gt;\n",
       "    &lt;link rel=&quot;stylesheet&quot; href=&quot;https://cdn.jsdelivr.net/npm/bootstrap@5.2.2/dist/css/bootstrap.min.css&quot;/&gt;\n",
       "    &lt;link rel=&quot;stylesheet&quot; href=&quot;https://netdna.bootstrapcdn.com/bootstrap/3.0.0/css/bootstrap.min.css&quot;/&gt;\n",
       "    &lt;link rel=&quot;stylesheet&quot; href=&quot;https://cdn.jsdelivr.net/npm/@fortawesome/fontawesome-free@6.2.0/css/all.min.css&quot;/&gt;\n",
       "    &lt;link rel=&quot;stylesheet&quot; href=&quot;https://cdnjs.cloudflare.com/ajax/libs/Leaflet.awesome-markers/2.0.2/leaflet.awesome-markers.css&quot;/&gt;\n",
       "    &lt;link rel=&quot;stylesheet&quot; href=&quot;https://cdn.jsdelivr.net/gh/python-visualization/folium/folium/templates/leaflet.awesome.rotate.min.css&quot;/&gt;\n",
       "    \n",
       "            &lt;meta name=&quot;viewport&quot; content=&quot;width=device-width,\n",
       "                initial-scale=1.0, maximum-scale=1.0, user-scalable=no&quot; /&gt;\n",
       "            &lt;style&gt;\n",
       "                #map_d0eb126c59eec15456b461fa4991bf6b {\n",
       "                    position: relative;\n",
       "                    width: 100.0%;\n",
       "                    height: 100.0%;\n",
       "                    left: 0.0%;\n",
       "                    top: 0.0%;\n",
       "                }\n",
       "                .leaflet-container { font-size: 1rem; }\n",
       "            &lt;/style&gt;\n",
       "        \n",
       "    &lt;script src=&quot;https://cdn.jsdelivr.net/gh/python-visualization/folium@main/folium/templates/leaflet_heat.min.js&quot;&gt;&lt;/script&gt;\n",
       "&lt;/head&gt;\n",
       "&lt;body&gt;\n",
       "    \n",
       "    \n",
       "            &lt;div class=&quot;folium-map&quot; id=&quot;map_d0eb126c59eec15456b461fa4991bf6b&quot; &gt;&lt;/div&gt;\n",
       "        \n",
       "&lt;/body&gt;\n",
       "&lt;script&gt;\n",
       "    \n",
       "    \n",
       "            var map_d0eb126c59eec15456b461fa4991bf6b = L.map(\n",
       "                &quot;map_d0eb126c59eec15456b461fa4991bf6b&quot;,\n",
       "                {\n",
       "                    center: [48.0, 5.0],\n",
       "                    crs: L.CRS.EPSG3857,\n",
       "                    zoom: 6,\n",
       "                    zoomControl: true,\n",
       "                    preferCanvas: false,\n",
       "                }\n",
       "            );\n",
       "\n",
       "            \n",
       "\n",
       "        \n",
       "    \n",
       "            var tile_layer_f223cda4c2d908afe46c55aca42126b3 = L.tileLayer(\n",
       "                &quot;https://stamen-tiles-{s}.a.ssl.fastly.net/toner/{z}/{x}/{y}.png&quot;,\n",
       "                {&quot;attribution&quot;: &quot;Map tiles by \\u003ca target=\\&quot;_blank\\&quot; href=\\&quot;http://stamen.com\\&quot;\\u003eStamen Design\\u003c/a\\u003e, under \\u003ca target=\\&quot;_blank\\&quot; href=\\&quot;http://creativecommons.org/licenses/by/3.0\\&quot;\\u003eCC BY 3.0\\u003c/a\\u003e. Data by \\u0026copy; \\u003ca target=\\&quot;_blank\\&quot; href=\\&quot;http://openstreetmap.org\\&quot;\\u003eOpenStreetMap\\u003c/a\\u003e, under \\u003ca target=\\&quot;_blank\\&quot; href=\\&quot;http://www.openstreetmap.org/copyright\\&quot;\\u003eODbL\\u003c/a\\u003e.&quot;, &quot;detectRetina&quot;: false, &quot;maxNativeZoom&quot;: 18, &quot;maxZoom&quot;: 18, &quot;minZoom&quot;: 0, &quot;noWrap&quot;: false, &quot;opacity&quot;: 1, &quot;subdomains&quot;: &quot;abc&quot;, &quot;tms&quot;: false}\n",
       "            );\n",
       "        \n",
       "    \n",
       "                tile_layer_f223cda4c2d908afe46c55aca42126b3.addTo(map_d0eb126c59eec15456b461fa4991bf6b);\n",
       "    \n",
       "            var heat_map_9dbc3fbd2906f84ae83d2d33440952f8 = L.heatLayer(\n",
       "                [[48.30295621034111, 4.862564681909801, 0.38046194013205026], [45.85729656991844, 4.597854867943251, 1.631854774593864], [48.023608711676914, 6.197084932781391, 1.819054757223793], [48.592906582267176, 4.825908341319211, 0.7458649634136755], [46.50429748313748, 5.670430961881917, 2.805474498962995], [46.87240290408188, 5.803625930341119, 0.3721354728636065], [44.96780380457286, 4.0721106831788045, 0.6645294787731446], [45.361073008062, 5.645263421766328, 2.6614960927927784], [49.38405425562633, 2.7575060384427346, 2.363864292954689], [49.799396631519784, 5.315815458778545, -1.7061106827937151], [47.09425669678223, 5.132406748383002, 0.9235373431350176], [47.32935956560183, 7.10114299340806, 1.4307927869807258], [48.5366261936506, 4.9702754345731615, -1.2792685955176477], [48.67306590932551, 3.8104058616806684, 2.4756617536453644], [47.59074492168027, 5.723314735977046, 0.8750298447584822], [46.36212838885726, 6.186713367359685, 0.8627867126976192], [48.066370368242, 5.2362266872247325, -0.7662105897731739], [48.02479066257244, 6.6058238565319884, 1.8943599064963894], [48.380084043159734, 4.96768384145929, -0.4280711720704824], [47.166306989281146, 4.417783565299351, 2.426610703965541], [49.6048600475524, 5.287684007448587, 1.6526677491159187], [46.64861366565886, 5.847378850959976, 0.18293167747222605], [48.439804828419405, 4.0664306118440905, 0.17268748154838032], [48.70743200794545, 3.2135979738260687, 0.44117012532156163], [47.89778468344882, 4.594122336060859, 1.1228719369842282], [48.682889144120225, 5.2572320131740735, 1.761752979053302], [46.77342738943184, 4.895932161238555, -0.17595683117436645], [48.7507488753522, 6.475211911990043, 0.7756251554630356], [47.333822835338324, 5.6691408270796, 2.538353153397101], [46.70384106849583, 4.2256186158106095, 1.636488395896524], [47.485587365312924, 5.213224603938166, 1.533573323705446], [47.02784526031204, 3.441898035615152, 0.590146733822061], [46.729305029137905, 6.250648358565634, -0.0594494508124539], [48.17588963242452, 4.995311805419391, 0.8380648135638203], [47.1169281955911, 5.748220003473072, 1.6250840092622916], [48.85765286652419, 3.865603978163232, 1.5732039958130293], [47.840079524224066, 4.676660572151105, 2.230105650515293], [48.20844238959812, 7.007195911694624, 0.9270901897656432], [46.55332843730506, 3.6645989959059904, 1.1998844536644995], [47.478736412139774, 3.1378061610118753, 2.7605793326708854], [48.31462170365157, 5.986689244436613, 0.725173057434707], [47.3235487417322, 5.207955443684138, 0.966799090731503], [47.014867232028294, 5.210830766362781, 2.565690575231632], [48.28431962581666, 3.686609193168333, 0.029288053624086707], [47.28696691356472, 5.198129179874121, 2.644082070060148], [46.5444063581451, 4.749691132780979, 1.846486771698247], [48.60777127981051, 3.4152765550278223, 0.42793416148609853], [49.35938200217157, 4.770611111307314, 2.4935908628392545], [47.20238917932664, 4.875357372572138, 1.4665254585338976], [47.670180178942054, 4.379422276050804, -0.5009532810008652], [48.52137832438274, 3.4347129289874614, 0.8905725520857372], [47.96413094771048, 6.3617917420982675, -0.9307667694987822], [47.69329598342633, 5.474942610509868, 1.2482781939006342], [48.08204606928711, 4.747959190056366, 0.6615898689280751], [47.19760557854625, 4.1136676717980265, 0.3348106294251295], [49.695047017514774, 5.97939537161364, 0.8809163276490254], [47.27132225099236, 6.300136551449976, 1.8662111934282657], [46.89279668348603, 5.282528154616061, 1.1490527093610041], [49.619401901728644, 6.1845399883846985, 2.671234036021029], [46.869941904099804, 4.3445740596189895, 1.163890121384394], [48.544721418121036, 5.217941436200902, -0.6928841823761043], [47.67151326982907, 5.728077725195667, 0.11085053200065687], [48.438534981412076, 5.577904808746019, 1.5695338235044516], [46.74216253710783, 4.360329146963149, 1.0562921662771276], [47.352559236988554, 5.268224432307413, 2.246007345040487], [47.35720911811104, 3.666005627109442, 0.5928438157731402], [48.77249568106194, 4.0756553815538235, 1.0412085965454736], [48.3171545277139, 3.132232499902373, 1.0777877364853126], [49.12504090020254, 5.6992468171640915, -0.22761296309875423], [47.352723981311065, 5.01401572910089, 0.7732250288429241], [46.68473117837705, 5.274131193148615, 2.6516248888528633], [48.8093251866409, 6.8384783443810555, -0.7041292834105026], [49.73122657740716, 4.350714770271266, 2.188299362918553], [48.77285950716296, 4.606502857138079, 0.012435049436729018], [48.50315393008841, 3.9255598371670883, -0.7546232294870043], [48.06206946372622, 4.342916923100584, 0.37214031305190143], [48.895741970161396, 4.950381912143457, 1.3767026610643094], [48.15086400464919, 5.378936321294725, -0.9792767966477707], [47.13681798383671, 6.068814489613617, 1.4303808594759357], [46.29672697540019, 3.159610672823411, 1.454544308416307], [48.67451531460333, 3.59826511822231, 1.2816644290567871], [47.69485287364712, 3.7322799088406446, 0.35926150267240686], [47.661390969855034, 5.454390280992822, 1.958942757801855], [46.50851876213719, 5.568873772765105, 0.4018000684147476], [47.28828349132528, 5.008557378528042, 2.18859077023114], [48.544582812439955, 6.731261351011101, 1.0207085711260167], [49.38751700080601, 4.679333675839153, -0.4434358744724394], [47.38486469172631, 6.504676281511744, 1.3002302038354592], [47.804662257147825, 3.253775921981175, 1.5627216050347492], [47.91346727533841, 3.933721340803014, 1.1251733301670503], [47.34920197796642, 5.129643684897624, 1.0930628857232616], [47.29019174473907, 5.695163961254465, 1.2404436513904538], [46.876461123163864, 2.8306591363364992, 2.407984844853422], [49.441860031058404, 5.859199584709087, 1.575655882517653], [46.930343399554495, 5.007006799114772, 1.8872370726956817], [45.632982522946115, 5.43492691047175, 1.1554035714805924], [47.31742004065414, 3.015950438748603, -0.18769047142916384], [47.93136800250756, 5.890258058741169, 0.29112931079558957], [48.3328230441771, 5.01675183017091, 0.4716558065943036], [48.70829581247186, 4.959082606642532, -0.6064311608298782]],\n",
       "                {&quot;blur&quot;: 15, &quot;maxZoom&quot;: 18, &quot;minOpacity&quot;: 0.5, &quot;radius&quot;: 25}\n",
       "            );\n",
       "        \n",
       "    \n",
       "                heat_map_9dbc3fbd2906f84ae83d2d33440952f8.addTo(map_d0eb126c59eec15456b461fa4991bf6b);\n",
       "&lt;/script&gt;\n",
       "&lt;/html&gt;\" style=\"position:absolute;width:100%;height:100%;left:0;top:0;border:none !important;\" allowfullscreen webkitallowfullscreen mozallowfullscreen></iframe></div></div>"
      ],
      "text/plain": [
       "<folium.folium.Map at 0x7fc634c127d0>"
      ]
     },
     "execution_count": 2,
     "metadata": {},
     "output_type": "execute_result"
    }
   ],
   "source": [
    "import folium\n",
    "from folium.plugins import HeatMap\n",
    "\n",
    "m = folium.Map([48.0, 5.0], tiles=\"stamentoner\", zoom_start=6)\n",
    "\n",
    "HeatMap(data).add_to(m)\n",
    "\n",
    "m"
   ]
  }
 ],
 "metadata": {
  "jupytext": {
   "text_representation": {
    "extension": ".mystnb",
    "format_name": "myst"
   }
  },
  "language_info": {
   "codemirror_mode": {
    "name": "ipython",
    "version": 3
   },
   "file_extension": ".py",
   "mimetype": "text/x-python",
   "name": "python",
   "nbconvert_exporter": "python",
   "pygments_lexer": "ipython3",
   "version": "3.11.5"
  }
 },
 "nbformat": 4,
 "nbformat_minor": 5
}
