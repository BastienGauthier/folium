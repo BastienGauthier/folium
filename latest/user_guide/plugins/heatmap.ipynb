{
 "cells": [
  {
   "cell_type": "markdown",
   "id": "215d32b7",
   "metadata": {},
   "source": [
    "## Heatmap"
   ]
  },
  {
   "cell_type": "code",
   "execution_count": 1,
   "id": "0d31b3b6",
   "metadata": {
    "execution": {
     "iopub.execute_input": "2023-09-06T09:33:02.029267Z",
     "iopub.status.busy": "2023-09-06T09:33:02.029095Z",
     "iopub.status.idle": "2023-09-06T09:33:02.089046Z",
     "shell.execute_reply": "2023-09-06T09:33:02.088560Z"
    }
   },
   "outputs": [],
   "source": [
    "import numpy as np\n",
    "\n",
    "data = (\n",
    "    np.random.normal(size=(100, 3)) * np.array([[1, 1, 1]]) + np.array([[48, 5, 1]])\n",
    ").tolist()"
   ]
  },
  {
   "cell_type": "code",
   "execution_count": 2,
   "id": "27e4cc10",
   "metadata": {
    "execution": {
     "iopub.execute_input": "2023-09-06T09:33:02.092783Z",
     "iopub.status.busy": "2023-09-06T09:33:02.091849Z",
     "iopub.status.idle": "2023-09-06T09:33:02.544812Z",
     "shell.execute_reply": "2023-09-06T09:33:02.544276Z"
    }
   },
   "outputs": [
    {
     "data": {
      "text/html": [
       "<div style=\"width:100%;\"><div style=\"position:relative;width:100%;height:0;padding-bottom:60%;\"><span style=\"color:#565656\">Make this Notebook Trusted to load map: File -> Trust Notebook</span><iframe srcdoc=\"&lt;!DOCTYPE html&gt;\n",
       "&lt;html&gt;\n",
       "&lt;head&gt;\n",
       "    \n",
       "    &lt;meta http-equiv=&quot;content-type&quot; content=&quot;text/html; charset=UTF-8&quot; /&gt;\n",
       "    \n",
       "        &lt;script&gt;\n",
       "            L_NO_TOUCH = false;\n",
       "            L_DISABLE_3D = false;\n",
       "        &lt;/script&gt;\n",
       "    \n",
       "    &lt;style&gt;html, body {width: 100%;height: 100%;margin: 0;padding: 0;}&lt;/style&gt;\n",
       "    &lt;style&gt;#map {position:absolute;top:0;bottom:0;right:0;left:0;}&lt;/style&gt;\n",
       "    &lt;script src=&quot;https://cdn.jsdelivr.net/npm/leaflet@1.9.3/dist/leaflet.js&quot;&gt;&lt;/script&gt;\n",
       "    &lt;script src=&quot;https://code.jquery.com/jquery-1.12.4.min.js&quot;&gt;&lt;/script&gt;\n",
       "    &lt;script src=&quot;https://cdn.jsdelivr.net/npm/bootstrap@5.2.2/dist/js/bootstrap.bundle.min.js&quot;&gt;&lt;/script&gt;\n",
       "    &lt;script src=&quot;https://cdnjs.cloudflare.com/ajax/libs/Leaflet.awesome-markers/2.0.2/leaflet.awesome-markers.js&quot;&gt;&lt;/script&gt;\n",
       "    &lt;link rel=&quot;stylesheet&quot; href=&quot;https://cdn.jsdelivr.net/npm/leaflet@1.9.3/dist/leaflet.css&quot;/&gt;\n",
       "    &lt;link rel=&quot;stylesheet&quot; href=&quot;https://cdn.jsdelivr.net/npm/bootstrap@5.2.2/dist/css/bootstrap.min.css&quot;/&gt;\n",
       "    &lt;link rel=&quot;stylesheet&quot; href=&quot;https://netdna.bootstrapcdn.com/bootstrap/3.0.0/css/bootstrap.min.css&quot;/&gt;\n",
       "    &lt;link rel=&quot;stylesheet&quot; href=&quot;https://cdn.jsdelivr.net/npm/@fortawesome/fontawesome-free@6.2.0/css/all.min.css&quot;/&gt;\n",
       "    &lt;link rel=&quot;stylesheet&quot; href=&quot;https://cdnjs.cloudflare.com/ajax/libs/Leaflet.awesome-markers/2.0.2/leaflet.awesome-markers.css&quot;/&gt;\n",
       "    &lt;link rel=&quot;stylesheet&quot; href=&quot;https://cdn.jsdelivr.net/gh/python-visualization/folium/folium/templates/leaflet.awesome.rotate.min.css&quot;/&gt;\n",
       "    \n",
       "            &lt;meta name=&quot;viewport&quot; content=&quot;width=device-width,\n",
       "                initial-scale=1.0, maximum-scale=1.0, user-scalable=no&quot; /&gt;\n",
       "            &lt;style&gt;\n",
       "                #map_c2aa849a55af32579c06dd25986a20f1 {\n",
       "                    position: relative;\n",
       "                    width: 100.0%;\n",
       "                    height: 100.0%;\n",
       "                    left: 0.0%;\n",
       "                    top: 0.0%;\n",
       "                }\n",
       "                .leaflet-container { font-size: 1rem; }\n",
       "            &lt;/style&gt;\n",
       "        \n",
       "    &lt;script src=&quot;https://cdn.jsdelivr.net/gh/python-visualization/folium@main/folium/templates/leaflet_heat.min.js&quot;&gt;&lt;/script&gt;\n",
       "&lt;/head&gt;\n",
       "&lt;body&gt;\n",
       "    \n",
       "    \n",
       "            &lt;div class=&quot;folium-map&quot; id=&quot;map_c2aa849a55af32579c06dd25986a20f1&quot; &gt;&lt;/div&gt;\n",
       "        \n",
       "&lt;/body&gt;\n",
       "&lt;script&gt;\n",
       "    \n",
       "    \n",
       "            var map_c2aa849a55af32579c06dd25986a20f1 = L.map(\n",
       "                &quot;map_c2aa849a55af32579c06dd25986a20f1&quot;,\n",
       "                {\n",
       "                    center: [48.0, 5.0],\n",
       "                    crs: L.CRS.EPSG3857,\n",
       "                    zoom: 6,\n",
       "                    zoomControl: true,\n",
       "                    preferCanvas: false,\n",
       "                }\n",
       "            );\n",
       "\n",
       "            \n",
       "\n",
       "        \n",
       "    \n",
       "            var tile_layer_b6af3d5caa96d7ba7c2a76ed7574e42c = L.tileLayer(\n",
       "                &quot;https://stamen-tiles-{s}.a.ssl.fastly.net/toner/{z}/{x}/{y}.png&quot;,\n",
       "                {&quot;attribution&quot;: &quot;Map tiles by \\u003ca target=\\&quot;_blank\\&quot; href=\\&quot;http://stamen.com\\&quot;\\u003eStamen Design\\u003c/a\\u003e, under \\u003ca target=\\&quot;_blank\\&quot; href=\\&quot;http://creativecommons.org/licenses/by/3.0\\&quot;\\u003eCC BY 3.0\\u003c/a\\u003e. Data by \\u0026copy; \\u003ca target=\\&quot;_blank\\&quot; href=\\&quot;http://openstreetmap.org\\&quot;\\u003eOpenStreetMap\\u003c/a\\u003e, under \\u003ca target=\\&quot;_blank\\&quot; href=\\&quot;http://www.openstreetmap.org/copyright\\&quot;\\u003eODbL\\u003c/a\\u003e.&quot;, &quot;detectRetina&quot;: false, &quot;maxNativeZoom&quot;: 18, &quot;maxZoom&quot;: 18, &quot;minZoom&quot;: 0, &quot;noWrap&quot;: false, &quot;opacity&quot;: 1, &quot;subdomains&quot;: &quot;abc&quot;, &quot;tms&quot;: false}\n",
       "            );\n",
       "        \n",
       "    \n",
       "                tile_layer_b6af3d5caa96d7ba7c2a76ed7574e42c.addTo(map_c2aa849a55af32579c06dd25986a20f1);\n",
       "    \n",
       "            var heat_map_af731ffde2e70b6551b7145a5edb0b6f = L.heatLayer(\n",
       "                [[47.90946562151069, 4.453782045593946, 0.9768523743630558], [49.032896860020436, 4.41932551399341, 0.8243550558328205], [49.23186262961043, 5.286268730950446, -0.47421556054245606], [47.10774978344891, 6.69196375144575, 1.6526226453979778], [47.202088328432765, 5.4452268506650565, 2.3694327788949794], [47.04982991869209, 5.325503914808018, -0.39618194354766945], [48.969088226008246, 4.336768861094474, 2.3668739522430675], [48.73501863756723, 4.416200855550328, 0.5606644578493227], [47.53223559208373, 3.8500529569350457, 0.45531499471262105], [46.58215525184968, 5.5497174180359155, 2.18998443886562], [49.08226733339238, 4.574998433204568, -1.0103726235661865], [47.518428030458914, 3.413752072457994, 2.9542071316398757], [48.935867828822055, 4.4633733684143655, 0.41934334603937995], [48.835460776369004, 4.048029147695022, -0.4585649047074667], [46.9203922889453, 4.744412284114146, 0.9675157240835375], [49.67902173061707, 4.570668498413662, 0.7118652284829279], [46.8789609595388, 4.848876148874531, 0.9695811952924717], [48.97382791006541, 5.974857479217897, 2.1604785754759925], [49.650529163760794, 4.597415360475902, 0.5816866052604129], [47.32055518921378, 4.8005032962130265, 2.0761920522745196], [47.57053585262777, 4.999801901836254, 0.1036199111860091], [49.24430714566255, 6.292129199101581, 2.1100854672333536], [46.6448445861192, 4.837061184873111, -0.8581382953869663], [48.89508660455321, 3.7186487578485234, 2.2023197669891523], [48.54760355830239, 5.699703027557986, -0.929575946732091], [47.80145465816144, 5.103500319764968, 2.14701295942821], [48.77695994574718, 5.522225481429265, 0.9808619377638899], [47.90489734542996, 5.348924655065483, -0.016127565723323967], [46.76933190709285, 4.907967355980253, 2.787893945011648], [47.36719508509471, 6.040583575896223, 2.54808076549783], [47.91012889533516, 3.0455359487400884, -0.18157699774626468], [48.591693342381774, 4.7381494319869395, 1.0866745436336882], [48.89593587600726, 6.226356840187553, 0.5300093559795359], [48.40895981172467, 5.6601299061065715, 1.2003459737776379], [46.26291453185344, 5.211565223303219, 2.2514057491532826], [48.79317568450455, 6.484408153703036, 1.6161253860951463], [46.06582202352263, 3.990557957129184, 1.1808591639038037], [47.320625583137264, 5.540460511660986, 2.2216830382285804], [47.74685789323468, 5.239652029422209, -0.21188189382374878], [48.555166821779615, 5.795888149131035, 1.174856883267978], [49.47293163965144, 3.045422614579868, 2.160000460190414], [47.28639298876755, 6.067059858945265, -0.8744900258198807], [48.44076380458008, 4.850909099356154, 2.1542010492074013], [47.48924310556319, 4.433303698274518, 1.4093994984369884], [45.90873074835845, 5.657728310776953, -0.8291486123217227], [48.875355573981224, 4.818954042602354, -0.8575103826123678], [47.88399346962064, 5.185345448981292, -1.0511714060887902], [47.259669349319935, 4.796632809559787, 1.8057842602447107], [47.591874478554324, 5.714560262898732, -1.1450942870941216], [46.355633984868284, 5.7349102474345734, 0.946871019976209], [47.6345601868145, 2.917035071497466, 1.832875184283035], [47.733648177528465, 5.25535045835191, 1.3463320194157278], [47.70192011022667, 5.240770604688687, 0.8123044171402568], [48.49374237276688, 4.596572298063865, 1.9738506719037399], [46.64541051525854, 5.5759005504926495, 1.1280092445649383], [47.607464126794675, 4.034575125220938, 2.628842111117667], [46.119270368476535, 3.5688723676821663, 0.8852928174222963], [48.40827598107052, 7.57760207718222, 1.09403461558491], [48.821028618300154, 4.74256654687802, 0.6997670594544791], [47.537653476774054, 4.713215710784119, 0.43560410358076107], [47.754200959194726, 6.38582876114617, 0.7441775140073357], [48.16687966973675, 4.876004060138016, 3.009329231536478], [48.651443795581834, 5.69155868655681, 0.7356550966465809], [49.411136249779695, 4.547420546745203, 0.2548584365001858], [46.985892586636254, 4.4290227532628705, 1.178407445455231], [47.150048799748575, 4.597243445630625, 0.043089145688281594], [46.16306835559598, 5.110778101303836, 1.6340456479196452], [48.831859719541725, 4.040765705718977, -0.26950453102938265], [48.86703745992958, 4.009993646024115, 3.020482254645417], [48.39093166058093, 2.9736149723902305, 0.898135390742101], [46.91709905830021, 4.557866047165731, 0.8048005111716513], [48.31007644799506, 3.4106200652349044, 2.028742910361533], [48.10560609244453, 3.926883804628498, 0.7069073810492977], [49.28887539274695, 5.42935227067713, 0.8209901108306361], [47.542492902765694, 4.198163145264799, -0.5736619405088257], [47.803369370406784, 5.883685738938621, 0.672441993137558], [48.25581659338814, 6.322559610216207, 0.6554403212388168], [49.07110812381106, 3.0772499321414477, 0.09308939632844171], [47.23173113685193, 4.188867595999199, -0.7617688457908605], [47.61909022149143, 6.016840622417737, 1.4043579396487766], [47.88549400148419, 5.905652400046368, -1.005985801199647], [49.78787809069761, 2.9731278344886993, 0.9144366408678689], [48.60592011068618, 4.103730411763935, 0.7226893763185644], [47.48458609546939, 7.296668029588756, 0.2971606521795678], [49.183144667094496, 5.244690934612421, 0.23464334535197595], [47.9287671131773, 6.675308813299553, 0.24350402040310004], [47.491876965190464, 5.765097507602569, -1.513868925679422], [47.83287008509185, 3.6247112446636036, 0.44395497996089883], [48.267381931511835, 5.008117876728172, -0.7873287276286602], [48.94157659429758, 5.705121324073522, 1.2924053135310574], [47.53293573882409, 4.820789867286202, 2.6611879393249893], [47.11238966940943, 4.8919271503407655, -0.1494503048413831], [48.59280678741676, 3.4881389273843526, 1.7262437649919822], [48.43871808357792, 4.348492670410822, 0.7529842789261533], [48.93400982924353, 4.60819225949745, -0.6733684910907793], [44.9351002273507, 5.017949842543342, 1.1648131551713092], [47.9883795265429, 3.6665237040031378, -0.21159639756724302], [46.911927323285184, 5.546846281011569, 0.4245186346309978], [48.24478587764921, 5.842389802021737, 1.707212733161467], [48.52159479822165, 5.144990753739393, 0.6106765366569213]],\n",
       "                {&quot;blur&quot;: 15, &quot;maxZoom&quot;: 18, &quot;minOpacity&quot;: 0.5, &quot;radius&quot;: 25}\n",
       "            );\n",
       "        \n",
       "    \n",
       "                heat_map_af731ffde2e70b6551b7145a5edb0b6f.addTo(map_c2aa849a55af32579c06dd25986a20f1);\n",
       "&lt;/script&gt;\n",
       "&lt;/html&gt;\" style=\"position:absolute;width:100%;height:100%;left:0;top:0;border:none !important;\" allowfullscreen webkitallowfullscreen mozallowfullscreen></iframe></div></div>"
      ],
      "text/plain": [
       "<folium.folium.Map at 0x7f55a4a3e250>"
      ]
     },
     "execution_count": 2,
     "metadata": {},
     "output_type": "execute_result"
    }
   ],
   "source": [
    "import folium\n",
    "from folium.plugins import HeatMap\n",
    "\n",
    "m = folium.Map([48.0, 5.0], tiles=\"stamentoner\", zoom_start=6)\n",
    "\n",
    "HeatMap(data).add_to(m)\n",
    "\n",
    "m"
   ]
  }
 ],
 "metadata": {
  "jupytext": {
   "text_representation": {
    "extension": ".mystnb",
    "format_name": "myst"
   }
  },
  "language_info": {
   "codemirror_mode": {
    "name": "ipython",
    "version": 3
   },
   "file_extension": ".py",
   "mimetype": "text/x-python",
   "name": "python",
   "nbconvert_exporter": "python",
   "pygments_lexer": "ipython3",
   "version": "3.11.5"
  }
 },
 "nbformat": 4,
 "nbformat_minor": 5
}
