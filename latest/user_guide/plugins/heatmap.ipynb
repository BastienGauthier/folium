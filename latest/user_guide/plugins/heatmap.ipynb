{
 "cells": [
  {
   "cell_type": "markdown",
   "id": "e9c40de6",
   "metadata": {},
   "source": [
    "## Heatmap"
   ]
  },
  {
   "cell_type": "code",
   "execution_count": 1,
   "id": "e10cb132",
   "metadata": {
    "execution": {
     "iopub.execute_input": "2023-10-04T17:29:30.954189Z",
     "iopub.status.busy": "2023-10-04T17:29:30.953853Z",
     "iopub.status.idle": "2023-10-04T17:29:31.016226Z",
     "shell.execute_reply": "2023-10-04T17:29:31.015648Z"
    }
   },
   "outputs": [],
   "source": [
    "import numpy as np\n",
    "\n",
    "data = (\n",
    "    np.random.normal(size=(100, 3)) * np.array([[1, 1, 1]]) + np.array([[48, 5, 1]])\n",
    ").tolist()"
   ]
  },
  {
   "cell_type": "code",
   "execution_count": 2,
   "id": "15a5f9db",
   "metadata": {
    "execution": {
     "iopub.execute_input": "2023-10-04T17:29:31.020449Z",
     "iopub.status.busy": "2023-10-04T17:29:31.019418Z",
     "iopub.status.idle": "2023-10-04T17:29:31.491569Z",
     "shell.execute_reply": "2023-10-04T17:29:31.491012Z"
    }
   },
   "outputs": [
    {
     "data": {
      "text/html": [
       "<div style=\"width:100%;\"><div style=\"position:relative;width:100%;height:0;padding-bottom:60%;\"><span style=\"color:#565656\">Make this Notebook Trusted to load map: File -> Trust Notebook</span><iframe srcdoc=\"&lt;!DOCTYPE html&gt;\n",
       "&lt;html&gt;\n",
       "&lt;head&gt;\n",
       "    \n",
       "    &lt;meta http-equiv=&quot;content-type&quot; content=&quot;text/html; charset=UTF-8&quot; /&gt;\n",
       "    \n",
       "        &lt;script&gt;\n",
       "            L_NO_TOUCH = false;\n",
       "            L_DISABLE_3D = false;\n",
       "        &lt;/script&gt;\n",
       "    \n",
       "    &lt;style&gt;html, body {width: 100%;height: 100%;margin: 0;padding: 0;}&lt;/style&gt;\n",
       "    &lt;style&gt;#map {position:absolute;top:0;bottom:0;right:0;left:0;}&lt;/style&gt;\n",
       "    &lt;script src=&quot;https://cdn.jsdelivr.net/npm/leaflet@1.9.3/dist/leaflet.js&quot;&gt;&lt;/script&gt;\n",
       "    &lt;script src=&quot;https://code.jquery.com/jquery-1.12.4.min.js&quot;&gt;&lt;/script&gt;\n",
       "    &lt;script src=&quot;https://cdn.jsdelivr.net/npm/bootstrap@5.2.2/dist/js/bootstrap.bundle.min.js&quot;&gt;&lt;/script&gt;\n",
       "    &lt;script src=&quot;https://cdnjs.cloudflare.com/ajax/libs/Leaflet.awesome-markers/2.0.2/leaflet.awesome-markers.js&quot;&gt;&lt;/script&gt;\n",
       "    &lt;link rel=&quot;stylesheet&quot; href=&quot;https://cdn.jsdelivr.net/npm/leaflet@1.9.3/dist/leaflet.css&quot;/&gt;\n",
       "    &lt;link rel=&quot;stylesheet&quot; href=&quot;https://cdn.jsdelivr.net/npm/bootstrap@5.2.2/dist/css/bootstrap.min.css&quot;/&gt;\n",
       "    &lt;link rel=&quot;stylesheet&quot; href=&quot;https://netdna.bootstrapcdn.com/bootstrap/3.0.0/css/bootstrap.min.css&quot;/&gt;\n",
       "    &lt;link rel=&quot;stylesheet&quot; href=&quot;https://cdn.jsdelivr.net/npm/@fortawesome/fontawesome-free@6.2.0/css/all.min.css&quot;/&gt;\n",
       "    &lt;link rel=&quot;stylesheet&quot; href=&quot;https://cdnjs.cloudflare.com/ajax/libs/Leaflet.awesome-markers/2.0.2/leaflet.awesome-markers.css&quot;/&gt;\n",
       "    &lt;link rel=&quot;stylesheet&quot; href=&quot;https://cdn.jsdelivr.net/gh/python-visualization/folium/folium/templates/leaflet.awesome.rotate.min.css&quot;/&gt;\n",
       "    \n",
       "            &lt;meta name=&quot;viewport&quot; content=&quot;width=device-width,\n",
       "                initial-scale=1.0, maximum-scale=1.0, user-scalable=no&quot; /&gt;\n",
       "            &lt;style&gt;\n",
       "                #map_6b699b73b9fb3fa3e63756febb15b5d1 {\n",
       "                    position: relative;\n",
       "                    width: 100.0%;\n",
       "                    height: 100.0%;\n",
       "                    left: 0.0%;\n",
       "                    top: 0.0%;\n",
       "                }\n",
       "                .leaflet-container { font-size: 1rem; }\n",
       "            &lt;/style&gt;\n",
       "        \n",
       "    &lt;script src=&quot;https://cdn.jsdelivr.net/gh/python-visualization/folium@main/folium/templates/leaflet_heat.min.js&quot;&gt;&lt;/script&gt;\n",
       "&lt;/head&gt;\n",
       "&lt;body&gt;\n",
       "    \n",
       "    \n",
       "            &lt;div class=&quot;folium-map&quot; id=&quot;map_6b699b73b9fb3fa3e63756febb15b5d1&quot; &gt;&lt;/div&gt;\n",
       "        \n",
       "&lt;/body&gt;\n",
       "&lt;script&gt;\n",
       "    \n",
       "    \n",
       "            var map_6b699b73b9fb3fa3e63756febb15b5d1 = L.map(\n",
       "                &quot;map_6b699b73b9fb3fa3e63756febb15b5d1&quot;,\n",
       "                {\n",
       "                    center: [48.0, 5.0],\n",
       "                    crs: L.CRS.EPSG3857,\n",
       "                    zoom: 6,\n",
       "                    zoomControl: true,\n",
       "                    preferCanvas: false,\n",
       "                }\n",
       "            );\n",
       "\n",
       "            \n",
       "\n",
       "        \n",
       "    \n",
       "            var tile_layer_1ea953b2a2feab0b3b3d42d051a6905e = L.tileLayer(\n",
       "                &quot;https://stamen-tiles-{s}.a.ssl.fastly.net/toner/{z}/{x}/{y}.png&quot;,\n",
       "                {&quot;attribution&quot;: &quot;Map tiles by \\u003ca target=\\&quot;_blank\\&quot; href=\\&quot;http://stamen.com\\&quot;\\u003eStamen Design\\u003c/a\\u003e, under \\u003ca target=\\&quot;_blank\\&quot; href=\\&quot;http://creativecommons.org/licenses/by/3.0\\&quot;\\u003eCC BY 3.0\\u003c/a\\u003e. Data by \\u0026copy; \\u003ca target=\\&quot;_blank\\&quot; href=\\&quot;http://openstreetmap.org\\&quot;\\u003eOpenStreetMap\\u003c/a\\u003e, under \\u003ca target=\\&quot;_blank\\&quot; href=\\&quot;http://www.openstreetmap.org/copyright\\&quot;\\u003eODbL\\u003c/a\\u003e.&quot;, &quot;detectRetina&quot;: false, &quot;maxNativeZoom&quot;: 18, &quot;maxZoom&quot;: 18, &quot;minZoom&quot;: 0, &quot;noWrap&quot;: false, &quot;opacity&quot;: 1, &quot;subdomains&quot;: &quot;abc&quot;, &quot;tms&quot;: false}\n",
       "            );\n",
       "        \n",
       "    \n",
       "                tile_layer_1ea953b2a2feab0b3b3d42d051a6905e.addTo(map_6b699b73b9fb3fa3e63756febb15b5d1);\n",
       "    \n",
       "            var heat_map_7b6716f6dfaf484b49deef867e16e9c8 = L.heatLayer(\n",
       "                [[48.892627025609244, 4.531667853567047, -0.5434038206743768], [46.17298475253356, 5.883815800741468, 1.6916568450862433], [46.781347480243774, 4.72268295108758, 1.2899272131978603], [48.52540541377562, 5.052117871509617, 3.005571518382739], [48.193953734985705, 3.054458082683012, 0.06653519428034504], [49.072946918973926, 5.922933210516863, -1.647880680252015], [47.74951465296793, 4.068077313290652, 1.5066139151693725], [46.248498565621425, 7.394456804877514, 1.3173736831438223], [50.28311566928729, 3.501335983969133, 0.7096174706795844], [46.58896887069366, 4.352335408533696, 0.751222005539985], [47.70795638745897, 4.328893753095457, 1.4305147501949131], [46.309886940230996, 4.276116519438311, 2.282862158787179], [48.294794369974376, 2.9307108597329035, 0.3813033071853307], [47.62429749472762, 5.2796382408982545, 0.3866276458760869], [48.05443922385581, 5.598596751084924, -0.10214753934632581], [47.277833478798385, 6.001802571087369, 0.10921087620461079], [49.57218563600675, 4.799005437285641, -0.04824545415802417], [50.188622564073896, 6.388058584026009, 1.543219762390683], [49.292648011830686, 4.874857144528097, 2.330521872962755], [46.683152765038315, 4.865898479176202, 0.8270765931348485], [47.15185993591278, 4.01195935396708, -0.06739371758315227], [47.29155075295647, 4.571952567816054, 2.0798736612398123], [47.72397109690554, 6.577360424477277, 0.9856716730519659], [46.0371138872125, 5.112601923550701, 0.08833524340347676], [49.285283757488514, 6.518715873247508, 1.4961921291409603], [48.05598901397321, 4.1947025984021105, 0.7344310349660073], [48.37872993655764, 3.0390557276800747, 1.7775068607116076], [47.21000687046447, 6.025588982549747, -0.3122378140815101], [47.61528705870882, 4.060984126308886, 1.5947781069230844], [46.94539731533998, 4.319476768428489, -0.43759981106541956], [48.07924808031537, 3.9112196696941384, 0.8209149440153214], [47.027252015904594, 4.637294974194191, 0.33791836705990863], [48.87550801557777, 5.703143666539814, 1.0043135678340023], [46.816049840720794, 7.1598995743401534, 2.1886101818620656], [49.298374440020076, 5.558398186967851, 1.9754834377162704], [47.47697991811525, 2.8491003288409362, 2.8013013169941927], [48.56996390765195, 5.210461510239952, 1.3404549675823985], [47.25487756787665, 5.378384353327686, 2.6239352900339816], [46.64003682141746, 5.503073289307103, 0.1646579541612725], [49.46847483594052, 6.181271395307266, 2.1856859044961827], [49.36839083080825, 5.655865084900283, 2.4891405838110963], [47.02056962550688, 6.393276629150925, 1.1115049452649979], [47.80288825412715, 4.389564300457591, 1.876389916036087], [49.07753208224597, 5.699358925436196, 2.6157343389316177], [49.46678408709942, 7.067008723866835, 1.8124002393356113], [48.91808901284661, 5.7712402814518615, 3.7843909662661406], [47.24660380444484, 4.9235718537976, 0.9463201410593568], [49.12296944023578, 3.601299045270811, 1.8377317358685448], [47.65374037311672, 6.05894780412029, 0.45210669801301606], [48.036650308909834, 4.904284372406811, 1.4505896958861555], [48.17739958942965, 6.000436469958633, -0.01931612101546154], [49.05853856890089, 5.1182144491863815, 0.9928388155825721], [47.35234205608771, 4.627946695211312, 2.2955711276159856], [47.99616897587107, 5.714091131582037, 1.0036653987600477], [47.37642877070131, 3.7070021645852473, 0.1975553446425663], [47.04295415205654, 5.273860273265518, 0.49886514443520846], [47.278629274871186, 4.324433750370682, 0.721151285521818], [48.42095730771453, 4.277571956691645, 0.009846331020646137], [47.57415148816714, 6.137994300449424, 0.09955001924719276], [47.62328496013015, 6.705978748231585, -0.1274562974948632], [49.13319804737329, 5.7431717373023305, 0.9455102021045338], [48.576806188058576, 6.228926897711384, 0.31982217544376956], [49.27212330090467, 6.136899597903184, 0.40758360681203676], [48.839940657712816, 3.7734402374201856, 0.8255446683556221], [48.614254888287604, 5.990053216218756, 1.371341325167449], [49.27782959767694, 5.783399265052633, 1.5363501531489816], [48.01926767467197, 6.159222688623694, -0.27333799399929437], [48.74462614643783, 2.447936906749839, 1.8682908921051227], [49.85160354104939, 5.998606533953183, -0.2291796763184608], [48.87392336702479, 4.888736712615824, 1.151674739670174], [49.34932350735532, 4.682775307514606, 0.20629055610958125], [47.08204111498194, 6.024221928480253, -0.821503314345505], [47.874829655300005, 5.509375512599162, 2.6333207115005406], [46.78850548260652, 3.3235263667187054, 2.2849608966061536], [48.68540806498313, 3.575796601225826, -0.013219947932807674], [47.952883945588304, 4.0708357842569765, 1.6516162716451208], [48.72184308660107, 5.343024662267385, 1.1349150448153926], [46.8099500131782, 5.621926576870091, 1.3048176136370515], [47.94055557924373, 5.340067849494417, 0.539664306205368], [48.557547375307784, 3.8334819027938485, 1.6275693161868285], [48.5949991497803, 5.18460416399943, 1.718146760442653], [48.051317452500925, 3.3697595860219653, 2.2419317175292433], [48.0237557011868, 5.283781099988464, 0.259252142831479], [48.09158897478037, 5.450979828802183, 1.643985145504939], [47.44532361523627, 4.667722165244632, 0.767346595446878], [48.46030422355479, 6.423583742078904, 0.8040962333205964], [48.24150037953794, 4.906452688170055, -0.03454640606137116], [48.75377385804067, 4.340250024372413, 1.6044685944022272], [47.22444729840315, 5.7689348042236, 3.1078721064426116], [47.41624263022549, 3.918713641887992, 1.573750856226248], [48.86068865342814, 5.258634499181337, 1.636867474687185], [48.95381908497288, 6.364552678635461, 0.5778287690480217], [48.262168596693094, 5.87810360409069, 1.8910392423834155], [47.881115061617926, 6.097414647773627, 1.9098703474527694], [47.54063982338424, 2.7102797858397683, 1.0336114242800347], [47.190273478529264, 6.560291995794467, 1.2404160542491216], [47.593785455709146, 4.444330147378308, 1.5380260288449925], [48.890294465863455, 5.6166836038641295, 0.3985773245703287], [46.16546340252816, 4.5058150339000065, 1.8136694412763392], [47.33782879544291, 7.1314795866146685, -0.1663826196214]],\n",
       "                {&quot;blur&quot;: 15, &quot;maxZoom&quot;: 18, &quot;minOpacity&quot;: 0.5, &quot;radius&quot;: 25}\n",
       "            );\n",
       "        \n",
       "    \n",
       "                heat_map_7b6716f6dfaf484b49deef867e16e9c8.addTo(map_6b699b73b9fb3fa3e63756febb15b5d1);\n",
       "&lt;/script&gt;\n",
       "&lt;/html&gt;\" style=\"position:absolute;width:100%;height:100%;left:0;top:0;border:none !important;\" allowfullscreen webkitallowfullscreen mozallowfullscreen></iframe></div></div>"
      ],
      "text/plain": [
       "<folium.folium.Map at 0x7f7828100110>"
      ]
     },
     "execution_count": 2,
     "metadata": {},
     "output_type": "execute_result"
    }
   ],
   "source": [
    "import folium\n",
    "from folium.plugins import HeatMap\n",
    "\n",
    "m = folium.Map([48.0, 5.0], tiles=\"stamentoner\", zoom_start=6)\n",
    "\n",
    "HeatMap(data).add_to(m)\n",
    "\n",
    "m"
   ]
  }
 ],
 "metadata": {
  "jupytext": {
   "text_representation": {
    "extension": ".mystnb",
    "format_name": "myst"
   }
  },
  "language_info": {
   "codemirror_mode": {
    "name": "ipython",
    "version": 3
   },
   "file_extension": ".py",
   "mimetype": "text/x-python",
   "name": "python",
   "nbconvert_exporter": "python",
   "pygments_lexer": "ipython3",
   "version": "3.11.6"
  }
 },
 "nbformat": 4,
 "nbformat_minor": 5
}
