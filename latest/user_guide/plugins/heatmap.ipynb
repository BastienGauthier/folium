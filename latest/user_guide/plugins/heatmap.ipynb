{
 "cells": [
  {
   "cell_type": "markdown",
   "id": "bcbec894",
   "metadata": {},
   "source": [
    "## Heatmap"
   ]
  },
  {
   "cell_type": "code",
   "execution_count": 1,
   "id": "7d08f877",
   "metadata": {
    "execution": {
     "iopub.execute_input": "2023-09-06T09:51:20.169555Z",
     "iopub.status.busy": "2023-09-06T09:51:20.169166Z",
     "iopub.status.idle": "2023-09-06T09:51:20.233917Z",
     "shell.execute_reply": "2023-09-06T09:51:20.233333Z"
    }
   },
   "outputs": [],
   "source": [
    "import numpy as np\n",
    "\n",
    "data = (\n",
    "    np.random.normal(size=(100, 3)) * np.array([[1, 1, 1]]) + np.array([[48, 5, 1]])\n",
    ").tolist()"
   ]
  },
  {
   "cell_type": "code",
   "execution_count": 2,
   "id": "6dc1e40d",
   "metadata": {
    "execution": {
     "iopub.execute_input": "2023-09-06T09:51:20.237926Z",
     "iopub.status.busy": "2023-09-06T09:51:20.236849Z",
     "iopub.status.idle": "2023-09-06T09:51:20.684616Z",
     "shell.execute_reply": "2023-09-06T09:51:20.683859Z"
    }
   },
   "outputs": [
    {
     "data": {
      "text/html": [
       "<div style=\"width:100%;\"><div style=\"position:relative;width:100%;height:0;padding-bottom:60%;\"><span style=\"color:#565656\">Make this Notebook Trusted to load map: File -> Trust Notebook</span><iframe srcdoc=\"&lt;!DOCTYPE html&gt;\n",
       "&lt;html&gt;\n",
       "&lt;head&gt;\n",
       "    \n",
       "    &lt;meta http-equiv=&quot;content-type&quot; content=&quot;text/html; charset=UTF-8&quot; /&gt;\n",
       "    \n",
       "        &lt;script&gt;\n",
       "            L_NO_TOUCH = false;\n",
       "            L_DISABLE_3D = false;\n",
       "        &lt;/script&gt;\n",
       "    \n",
       "    &lt;style&gt;html, body {width: 100%;height: 100%;margin: 0;padding: 0;}&lt;/style&gt;\n",
       "    &lt;style&gt;#map {position:absolute;top:0;bottom:0;right:0;left:0;}&lt;/style&gt;\n",
       "    &lt;script src=&quot;https://cdn.jsdelivr.net/npm/leaflet@1.9.3/dist/leaflet.js&quot;&gt;&lt;/script&gt;\n",
       "    &lt;script src=&quot;https://code.jquery.com/jquery-1.12.4.min.js&quot;&gt;&lt;/script&gt;\n",
       "    &lt;script src=&quot;https://cdn.jsdelivr.net/npm/bootstrap@5.2.2/dist/js/bootstrap.bundle.min.js&quot;&gt;&lt;/script&gt;\n",
       "    &lt;script src=&quot;https://cdnjs.cloudflare.com/ajax/libs/Leaflet.awesome-markers/2.0.2/leaflet.awesome-markers.js&quot;&gt;&lt;/script&gt;\n",
       "    &lt;link rel=&quot;stylesheet&quot; href=&quot;https://cdn.jsdelivr.net/npm/leaflet@1.9.3/dist/leaflet.css&quot;/&gt;\n",
       "    &lt;link rel=&quot;stylesheet&quot; href=&quot;https://cdn.jsdelivr.net/npm/bootstrap@5.2.2/dist/css/bootstrap.min.css&quot;/&gt;\n",
       "    &lt;link rel=&quot;stylesheet&quot; href=&quot;https://netdna.bootstrapcdn.com/bootstrap/3.0.0/css/bootstrap.min.css&quot;/&gt;\n",
       "    &lt;link rel=&quot;stylesheet&quot; href=&quot;https://cdn.jsdelivr.net/npm/@fortawesome/fontawesome-free@6.2.0/css/all.min.css&quot;/&gt;\n",
       "    &lt;link rel=&quot;stylesheet&quot; href=&quot;https://cdnjs.cloudflare.com/ajax/libs/Leaflet.awesome-markers/2.0.2/leaflet.awesome-markers.css&quot;/&gt;\n",
       "    &lt;link rel=&quot;stylesheet&quot; href=&quot;https://cdn.jsdelivr.net/gh/python-visualization/folium/folium/templates/leaflet.awesome.rotate.min.css&quot;/&gt;\n",
       "    \n",
       "            &lt;meta name=&quot;viewport&quot; content=&quot;width=device-width,\n",
       "                initial-scale=1.0, maximum-scale=1.0, user-scalable=no&quot; /&gt;\n",
       "            &lt;style&gt;\n",
       "                #map_1bad0211a430dd585c070ec77609d53c {\n",
       "                    position: relative;\n",
       "                    width: 100.0%;\n",
       "                    height: 100.0%;\n",
       "                    left: 0.0%;\n",
       "                    top: 0.0%;\n",
       "                }\n",
       "                .leaflet-container { font-size: 1rem; }\n",
       "            &lt;/style&gt;\n",
       "        \n",
       "    &lt;script src=&quot;https://cdn.jsdelivr.net/gh/python-visualization/folium@main/folium/templates/leaflet_heat.min.js&quot;&gt;&lt;/script&gt;\n",
       "&lt;/head&gt;\n",
       "&lt;body&gt;\n",
       "    \n",
       "    \n",
       "            &lt;div class=&quot;folium-map&quot; id=&quot;map_1bad0211a430dd585c070ec77609d53c&quot; &gt;&lt;/div&gt;\n",
       "        \n",
       "&lt;/body&gt;\n",
       "&lt;script&gt;\n",
       "    \n",
       "    \n",
       "            var map_1bad0211a430dd585c070ec77609d53c = L.map(\n",
       "                &quot;map_1bad0211a430dd585c070ec77609d53c&quot;,\n",
       "                {\n",
       "                    center: [48.0, 5.0],\n",
       "                    crs: L.CRS.EPSG3857,\n",
       "                    zoom: 6,\n",
       "                    zoomControl: true,\n",
       "                    preferCanvas: false,\n",
       "                }\n",
       "            );\n",
       "\n",
       "            \n",
       "\n",
       "        \n",
       "    \n",
       "            var tile_layer_7ee3cac25354a3af7f1332dc9c0b8da0 = L.tileLayer(\n",
       "                &quot;https://stamen-tiles-{s}.a.ssl.fastly.net/toner/{z}/{x}/{y}.png&quot;,\n",
       "                {&quot;attribution&quot;: &quot;Map tiles by \\u003ca target=\\&quot;_blank\\&quot; href=\\&quot;http://stamen.com\\&quot;\\u003eStamen Design\\u003c/a\\u003e, under \\u003ca target=\\&quot;_blank\\&quot; href=\\&quot;http://creativecommons.org/licenses/by/3.0\\&quot;\\u003eCC BY 3.0\\u003c/a\\u003e. Data by \\u0026copy; \\u003ca target=\\&quot;_blank\\&quot; href=\\&quot;http://openstreetmap.org\\&quot;\\u003eOpenStreetMap\\u003c/a\\u003e, under \\u003ca target=\\&quot;_blank\\&quot; href=\\&quot;http://www.openstreetmap.org/copyright\\&quot;\\u003eODbL\\u003c/a\\u003e.&quot;, &quot;detectRetina&quot;: false, &quot;maxNativeZoom&quot;: 18, &quot;maxZoom&quot;: 18, &quot;minZoom&quot;: 0, &quot;noWrap&quot;: false, &quot;opacity&quot;: 1, &quot;subdomains&quot;: &quot;abc&quot;, &quot;tms&quot;: false}\n",
       "            );\n",
       "        \n",
       "    \n",
       "                tile_layer_7ee3cac25354a3af7f1332dc9c0b8da0.addTo(map_1bad0211a430dd585c070ec77609d53c);\n",
       "    \n",
       "            var heat_map_959108b08ee48d6039191682e6b491a0 = L.heatLayer(\n",
       "                [[48.34902938998543, 2.8286090766392094, 0.3665203431015811], [46.81798667230559, 5.520120234548882, 2.1781505154057017], [48.87100197829981, 6.928126086641345, 1.4427096078967288], [46.95089984130582, 6.233926199816725, -0.031117650229245175], [48.65809070522947, 5.971699444858711, 0.14480912806689583], [48.94845873964882, 5.360174535968293, 0.4869289155931814], [47.29397029878115, 7.86993689521352, 2.166653126151517], [46.7600165266714, 2.7247180559535993, 0.411173441078709], [47.542416722490934, 4.592398265787836, 1.6387165508409745], [47.4171168473431, 4.236957239010257, 3.9972840474969105], [47.54369332660663, 4.828779341426788, 0.7452008177277065], [48.94030017644455, 2.7807006798466, 1.7216105843669443], [47.458520946301974, 6.852793433327324, -0.3226349487647451], [48.42317929059544, 6.933666776506611, 0.1432458024517833], [47.53759121061445, 3.8730451606207605, 0.09129223253015273], [48.51397451809632, 3.759503706600613, 0.5992029440867208], [47.74763859056588, 4.5467317302987045, 1.238065435499909], [47.08126669243187, 6.456190694988917, -0.05223594930305686], [47.916000756879605, 4.741428684724646, 0.14014376606568946], [48.717840191792156, 5.814360906718326, -0.1540886107322168], [46.71206293646538, 5.650193964847396, 1.543937350713426], [47.68802493877401, 5.291892539761329, 0.8377508098830626], [48.249852146634375, 6.145770282313049, 1.2608074557649258], [46.105549703054734, 5.93996833693061, 2.3911862188689454], [48.69081541524608, 5.2097799748601705, 2.0709454279908344], [47.76276523997455, 2.240129149312451, 0.06967682563982247], [48.11554539988637, 4.8970148125264545, 0.8962366078142107], [48.74406612251255, 5.694643879835857, 0.018281674965295647], [47.84968051069677, 3.3931347777379766, 1.9744689360422023], [47.5619798866887, 4.489475809693115, 0.9528745017271034], [47.69517509383072, 5.375525616198532, 2.0839064287662517], [46.179263990803605, 5.050343390424313, -0.18614818139682154], [48.19342096490096, 5.270548431734044, 2.70445524450524], [47.76162952917794, 3.637775846424133, 1.6208963528201576], [47.94773090600932, 5.198440533622168, 0.46152409196908106], [48.33435878305188, 4.4631242030097065, 0.1462329463488795], [47.796091568124474, 5.329792857904842, 0.4723431133464554], [47.08278998526246, 4.797378841662891, 2.7883706365365617], [46.29395649391325, 5.5294114172082045, 0.12685104153410898], [48.71430919479655, 4.3316011462465145, 1.0929452377059623], [47.56187621758724, 4.846793953897688, 1.9220851910760142], [48.185894224361284, 6.314509327432892, 1.4355087546273557], [47.813322766101, 4.934682471581051, 1.2157156705556842], [47.631080958603604, 3.9894656194339397, 0.8882311617868381], [48.20558388427289, 5.1238393071004396, 0.25480443203257175], [47.908493168643176, 4.677093225388445, 0.613787119323], [46.523994881910525, 5.341000080770885, 1.924051811102555], [47.27450941144906, 3.6106538782665853, 1.7655763374806668], [49.23186735672669, 5.354374155087459, 1.6693001249582204], [47.03512042176037, 3.6775593400466438, 1.8293940973837723], [49.407231987436525, 6.306112310532622, 1.1497644370599196], [47.90342087167989, 4.878114747924954, 1.5582158544159888], [48.79597852893862, 4.122321076552943, 0.6555061980947099], [47.57219405519885, 5.1558611790756546, 1.7314318791508077], [47.5532303897684, 3.93549468363995, 0.5514407062599654], [47.29653345985367, 4.703597930579221, 1.926669997977814], [47.90952182760025, 4.131096113297279, 1.7335114864156917], [48.14260593888063, 3.641044345466332, 1.7349476301203755], [47.169328253297415, 3.705119710181709, 0.5407578750875123], [46.47018048461879, 4.57320290798814, 0.9518909058742231], [47.980245061769246, 3.257521494918719, 2.484890804445835], [48.545656397803754, 4.192123566611276, 1.8030967712971528], [48.300672128062374, 5.2838367641636435, 0.37997579854246555], [48.991884325847295, 4.485132823849034, 0.6072381348200808], [48.84251756910521, 4.730030869340644, 1.5624369691571065], [48.4705355940193, 6.080786066595729, -0.4606107873235641], [47.65600190005365, 4.695904175741564, 1.3110492367932185], [48.639025202209524, 4.023257294237513, 2.7300663550247535], [48.09871281662279, 4.760269349874726, 1.8053718020139382], [47.28818030945738, 3.4168617569521627, 0.11579162103795626], [48.73362119690912, 3.5623480971306494, 0.6088295422053183], [47.310531947082374, 5.86394907391405, 2.4698329786338253], [49.83886561799872, 3.702011160814501, 0.48458228758768285], [47.061972437189716, 4.403020436088262, 1.4885902154885453], [49.48736591789489, 4.007535125546686, 0.8835263234848939], [48.35197973536718, 4.209647959763873, 1.0316833091572986], [49.91402830310163, 4.314436890493719, 1.196554290190923], [48.47460469239932, 3.847886438611602, 0.9044951109353352], [47.7734559636341, 5.466440697481264, 0.21861123591968412], [46.93924927889933, 4.472387449804953, 0.5966033764622325], [46.88644217545421, 4.9356816311768155, 0.36030001437478376], [48.547063791267604, 4.504077621614212, 0.802015927856853], [49.01214541815711, 7.154523590823725, 0.9119536019268258], [49.43698457861213, 6.242481274944224, -0.1669760167669041], [48.2195755891674, 4.4915004211986895, 0.31783312542271636], [46.89970964207868, 4.39322868140623, 0.18356722644677548], [48.880787906253325, 5.7934613072620404, 0.8082378176618579], [48.85582257302017, 4.527488427224777, 0.5243434097834532], [47.52486856018248, 3.9621332372988567, -0.3507673728959606], [48.38917171972213, 3.8521057367019544, 1.401632812902063], [46.6526457930032, 5.244014661788674, 0.9993043072943012], [47.749525529323265, 4.932069497395272, 0.22408847137258148], [49.06579924348296, 5.688781317683365, 1.598137939386505], [48.7538256910121, 5.974442778802521, -0.7700938388783254], [47.849729815760874, 4.642031715818963, -1.0522494890715337], [47.21186658640443, 6.150111844934317, 0.7965927964829913], [48.92818596142332, 4.10825477258088, 0.9057135552711502], [47.187379280710374, 5.418341551527275, 1.7127609565683337], [47.314706881593615, 5.7393624824357365, 2.70223565408097], [47.07682684237557, 4.649109490283312, -0.84098469247444]],\n",
       "                {&quot;blur&quot;: 15, &quot;maxZoom&quot;: 18, &quot;minOpacity&quot;: 0.5, &quot;radius&quot;: 25}\n",
       "            );\n",
       "        \n",
       "    \n",
       "                heat_map_959108b08ee48d6039191682e6b491a0.addTo(map_1bad0211a430dd585c070ec77609d53c);\n",
       "&lt;/script&gt;\n",
       "&lt;/html&gt;\" style=\"position:absolute;width:100%;height:100%;left:0;top:0;border:none !important;\" allowfullscreen webkitallowfullscreen mozallowfullscreen></iframe></div></div>"
      ],
      "text/plain": [
       "<folium.folium.Map at 0x7f2a0c0d16d0>"
      ]
     },
     "execution_count": 2,
     "metadata": {},
     "output_type": "execute_result"
    }
   ],
   "source": [
    "import folium\n",
    "from folium.plugins import HeatMap\n",
    "\n",
    "m = folium.Map([48.0, 5.0], tiles=\"stamentoner\", zoom_start=6)\n",
    "\n",
    "HeatMap(data).add_to(m)\n",
    "\n",
    "m"
   ]
  }
 ],
 "metadata": {
  "jupytext": {
   "text_representation": {
    "extension": ".mystnb",
    "format_name": "myst"
   }
  },
  "language_info": {
   "codemirror_mode": {
    "name": "ipython",
    "version": 3
   },
   "file_extension": ".py",
   "mimetype": "text/x-python",
   "name": "python",
   "nbconvert_exporter": "python",
   "pygments_lexer": "ipython3",
   "version": "3.11.5"
  }
 },
 "nbformat": 4,
 "nbformat_minor": 5
}
