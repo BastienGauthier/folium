{
 "cells": [
  {
   "cell_type": "markdown",
   "id": "c27ae1d4",
   "metadata": {},
   "source": [
    "## Heatmap"
   ]
  },
  {
   "cell_type": "code",
   "execution_count": 1,
   "id": "1f1c8df2",
   "metadata": {
    "execution": {
     "iopub.execute_input": "2023-09-05T16:48:10.283906Z",
     "iopub.status.busy": "2023-09-05T16:48:10.283476Z",
     "iopub.status.idle": "2023-09-05T16:48:10.365351Z",
     "shell.execute_reply": "2023-09-05T16:48:10.364625Z"
    }
   },
   "outputs": [],
   "source": [
    "import numpy as np\n",
    "\n",
    "data = (\n",
    "    np.random.normal(size=(100, 3)) * np.array([[1, 1, 1]]) + np.array([[48, 5, 1]])\n",
    ").tolist()"
   ]
  },
  {
   "cell_type": "code",
   "execution_count": 2,
   "id": "a07868ab",
   "metadata": {
    "execution": {
     "iopub.execute_input": "2023-09-05T16:48:10.368764Z",
     "iopub.status.busy": "2023-09-05T16:48:10.367982Z",
     "iopub.status.idle": "2023-09-05T16:48:10.857984Z",
     "shell.execute_reply": "2023-09-05T16:48:10.857311Z"
    }
   },
   "outputs": [
    {
     "data": {
      "text/html": [
       "<div style=\"width:100%;\"><div style=\"position:relative;width:100%;height:0;padding-bottom:60%;\"><span style=\"color:#565656\">Make this Notebook Trusted to load map: File -> Trust Notebook</span><iframe srcdoc=\"&lt;!DOCTYPE html&gt;\n",
       "&lt;html&gt;\n",
       "&lt;head&gt;\n",
       "    \n",
       "    &lt;meta http-equiv=&quot;content-type&quot; content=&quot;text/html; charset=UTF-8&quot; /&gt;\n",
       "    \n",
       "        &lt;script&gt;\n",
       "            L_NO_TOUCH = false;\n",
       "            L_DISABLE_3D = false;\n",
       "        &lt;/script&gt;\n",
       "    \n",
       "    &lt;style&gt;html, body {width: 100%;height: 100%;margin: 0;padding: 0;}&lt;/style&gt;\n",
       "    &lt;style&gt;#map {position:absolute;top:0;bottom:0;right:0;left:0;}&lt;/style&gt;\n",
       "    &lt;script src=&quot;https://cdn.jsdelivr.net/npm/leaflet@1.9.3/dist/leaflet.js&quot;&gt;&lt;/script&gt;\n",
       "    &lt;script src=&quot;https://code.jquery.com/jquery-1.12.4.min.js&quot;&gt;&lt;/script&gt;\n",
       "    &lt;script src=&quot;https://cdn.jsdelivr.net/npm/bootstrap@5.2.2/dist/js/bootstrap.bundle.min.js&quot;&gt;&lt;/script&gt;\n",
       "    &lt;script src=&quot;https://cdnjs.cloudflare.com/ajax/libs/Leaflet.awesome-markers/2.0.2/leaflet.awesome-markers.js&quot;&gt;&lt;/script&gt;\n",
       "    &lt;link rel=&quot;stylesheet&quot; href=&quot;https://cdn.jsdelivr.net/npm/leaflet@1.9.3/dist/leaflet.css&quot;/&gt;\n",
       "    &lt;link rel=&quot;stylesheet&quot; href=&quot;https://cdn.jsdelivr.net/npm/bootstrap@5.2.2/dist/css/bootstrap.min.css&quot;/&gt;\n",
       "    &lt;link rel=&quot;stylesheet&quot; href=&quot;https://netdna.bootstrapcdn.com/bootstrap/3.0.0/css/bootstrap.min.css&quot;/&gt;\n",
       "    &lt;link rel=&quot;stylesheet&quot; href=&quot;https://cdn.jsdelivr.net/npm/@fortawesome/fontawesome-free@6.2.0/css/all.min.css&quot;/&gt;\n",
       "    &lt;link rel=&quot;stylesheet&quot; href=&quot;https://cdnjs.cloudflare.com/ajax/libs/Leaflet.awesome-markers/2.0.2/leaflet.awesome-markers.css&quot;/&gt;\n",
       "    &lt;link rel=&quot;stylesheet&quot; href=&quot;https://cdn.jsdelivr.net/gh/python-visualization/folium/folium/templates/leaflet.awesome.rotate.min.css&quot;/&gt;\n",
       "    \n",
       "            &lt;meta name=&quot;viewport&quot; content=&quot;width=device-width,\n",
       "                initial-scale=1.0, maximum-scale=1.0, user-scalable=no&quot; /&gt;\n",
       "            &lt;style&gt;\n",
       "                #map_ece8b30a5837a7c63859e30156d21b3d {\n",
       "                    position: relative;\n",
       "                    width: 100.0%;\n",
       "                    height: 100.0%;\n",
       "                    left: 0.0%;\n",
       "                    top: 0.0%;\n",
       "                }\n",
       "                .leaflet-container { font-size: 1rem; }\n",
       "            &lt;/style&gt;\n",
       "        \n",
       "    &lt;script src=&quot;https://cdn.jsdelivr.net/gh/python-visualization/folium@main/folium/templates/leaflet_heat.min.js&quot;&gt;&lt;/script&gt;\n",
       "&lt;/head&gt;\n",
       "&lt;body&gt;\n",
       "    \n",
       "    \n",
       "            &lt;div class=&quot;folium-map&quot; id=&quot;map_ece8b30a5837a7c63859e30156d21b3d&quot; &gt;&lt;/div&gt;\n",
       "        \n",
       "&lt;/body&gt;\n",
       "&lt;script&gt;\n",
       "    \n",
       "    \n",
       "            var map_ece8b30a5837a7c63859e30156d21b3d = L.map(\n",
       "                &quot;map_ece8b30a5837a7c63859e30156d21b3d&quot;,\n",
       "                {\n",
       "                    center: [48.0, 5.0],\n",
       "                    crs: L.CRS.EPSG3857,\n",
       "                    zoom: 6,\n",
       "                    zoomControl: true,\n",
       "                    preferCanvas: false,\n",
       "                }\n",
       "            );\n",
       "\n",
       "            \n",
       "\n",
       "        \n",
       "    \n",
       "            var tile_layer_168a5a21daac74c7e6884bbcefda7505 = L.tileLayer(\n",
       "                &quot;https://stamen-tiles-{s}.a.ssl.fastly.net/toner/{z}/{x}/{y}.png&quot;,\n",
       "                {&quot;attribution&quot;: &quot;Map tiles by \\u003ca target=\\&quot;_blank\\&quot; href=\\&quot;http://stamen.com\\&quot;\\u003eStamen Design\\u003c/a\\u003e, under \\u003ca target=\\&quot;_blank\\&quot; href=\\&quot;http://creativecommons.org/licenses/by/3.0\\&quot;\\u003eCC BY 3.0\\u003c/a\\u003e. Data by \\u0026copy; \\u003ca target=\\&quot;_blank\\&quot; href=\\&quot;http://openstreetmap.org\\&quot;\\u003eOpenStreetMap\\u003c/a\\u003e, under \\u003ca target=\\&quot;_blank\\&quot; href=\\&quot;http://www.openstreetmap.org/copyright\\&quot;\\u003eODbL\\u003c/a\\u003e.&quot;, &quot;detectRetina&quot;: false, &quot;maxNativeZoom&quot;: 18, &quot;maxZoom&quot;: 18, &quot;minZoom&quot;: 0, &quot;noWrap&quot;: false, &quot;opacity&quot;: 1, &quot;subdomains&quot;: &quot;abc&quot;, &quot;tms&quot;: false}\n",
       "            );\n",
       "        \n",
       "    \n",
       "                tile_layer_168a5a21daac74c7e6884bbcefda7505.addTo(map_ece8b30a5837a7c63859e30156d21b3d);\n",
       "    \n",
       "            var heat_map_3603e16125024ae44a990f2ace6fb578 = L.heatLayer(\n",
       "                [[47.0654378984435, 4.95500186544262, 1.7955256683673118], [46.91805464966467, 5.8073940490354445, -1.5141843864766131], [48.277075471330946, 4.738846333604801, 1.451493850512534], [46.59546086666791, 4.922404068461612, -0.02972284077275389], [46.039575160847846, 5.705097943313503, 0.8668158992674921], [49.57550398091908, 3.4353127090052835, 2.0210110557002663], [47.933184758094185, 3.321824920312861, 0.09362648311761013], [47.34037486240651, 5.369819411871374, 0.4515535713345603], [48.80184891530458, 4.942996806335165, -0.33143112445514156], [49.31252441566538, 6.34251231656696, 1.2363183294579851], [47.40777298025276, 4.059178495648843, 0.7772889714424103], [45.89986610352264, 5.1642557347768365, 0.7364200149470521], [47.95987527445407, 5.0328668525985725, 2.176699217642578], [47.269250095988646, 5.4932866331652965, -0.26041898094209004], [47.77823635169367, 6.718398320565105, 0.9327460210245034], [47.677824084570666, 5.285879843243353, 2.1688603881751956], [47.3807950377884, 4.358300761625276, 0.8289287291911619], [47.40650900736352, 5.528589890821346, 2.0188997719531683], [48.96148062993796, 5.250510385407592, 2.288960469212962], [48.22032350072435, 4.123660943534183, 0.9225081388351686], [48.00322195991886, 5.298363139203016, 1.5294299072748574], [49.20988118676735, 3.507993028099688, 1.6761568892510996], [48.21814173738848, 5.992575720872599, 0.5749014535419388], [48.97054270433997, 5.763542654926035, -0.7893379802396225], [47.8095334163236, 6.8519937484450875, 2.3405825595431473], [48.756912052739665, 5.7345500886963725, 2.1137264538796767], [50.60457652563461, 6.605615941022919, 1.5557263310037357], [48.82538426342577, 5.037098420714047, 0.8805420111159351], [47.824243460671205, 4.896304016220785, 0.2176180293368708], [48.645234696242674, 3.9961057494636796, 1.5210452116851476], [48.39009208196783, 4.759363153297806, 0.7210837307086665], [46.97383848149756, 3.4752704505006635, 0.6115385422238833], [48.68797517451272, 6.040947057338159, 0.14193323885544196], [48.439736919932805, 5.58464180932542, -0.4360689157032198], [48.37901641195816, 3.9357338999855265, 0.28666304821313426], [45.58246161447209, 4.998304559528899, 0.07119927322577635], [48.02314575374608, 3.1532253048692045, 0.2604012787285399], [49.07350729005716, 4.217660345504708, 1.4630911830759645], [47.500162368758254, 4.838390097656911, 1.7088221907633412], [49.39560451609548, 4.81539074606165, 1.5931365226511502], [47.331339369709355, 3.746820963592667, 1.0198992091762233], [48.624895128398855, 5.676646066290293, 1.1663107106877044], [47.29361263888456, 4.2477697422592815, 0.7630800758766995], [48.132581253764414, 3.348063842475444, 1.7049727185894463], [48.27855609099959, 3.877467342315202, 1.2390638159551621], [48.933383748405184, 3.4754852726086134, 1.4403548919828817], [48.778846883667555, 4.501888256022766, 1.8978537515260594], [46.489568738513405, 4.344219458301935, 0.34013489349762194], [48.00827774383993, 4.6813578485428975, 3.7847806919796474], [48.49089349800358, 4.15048238017535, 1.6365532277776507], [48.58567772322369, 5.711157821335755, 1.1533658594024239], [49.06181539808611, 3.6530108231407015, -0.11614166221288635], [47.26783673706091, 4.077474212823976, -0.023185890011342636], [46.67799166840866, 4.005273287907967, -0.24601359582834426], [48.634859548216774, 3.1269250519101517, 2.1053117743060774], [49.70899498965964, 5.176129738298086, -0.610563487497523], [48.13458026445128, 6.0573545698836675, 0.648217559216524], [47.65425671711263, 5.779154469409129, 0.8579576239362048], [48.13051938353469, 3.5950844329245015, 0.9918574316998623], [48.8204346860925, 4.296274322140391, -1.3245451474266376], [47.04752096074377, 5.46628127540192, 2.451310037099293], [47.77226487682788, 5.94684871326265, 1.216292478946141], [47.41014434044658, 4.0143991792275955, -0.29369410512512295], [49.47936999361326, 4.005072657958123, 0.5888091580201187], [48.89122218718106, 5.114173805993181, -0.6752976538852651], [48.41168973934626, 6.0049327873127325, 0.862001582590295], [48.97042693820413, 4.846216030662251, 1.2506848962439185], [47.995328941089504, 4.732180283929655, 1.7322343494610906], [48.0254839982468, 5.67225294215663, 0.3728859430744834], [47.546444453642, 5.018819581620055, 1.6396660748881633], [46.79262927762773, 6.040653499625017, 1.6526720076254646], [48.23846753533232, 5.085496824269987, 2.7961894625003176], [48.58124773575525, 6.079020582987352, 0.6333871653705712], [48.49320067706321, 5.019245045587032, 1.8105067807417559], [48.77920658350838, 4.5709734863706775, 2.297713756101486], [49.17600357175743, 4.4433880703494015, 0.29040674827602353], [48.88625340543282, 5.271000113278031, 1.7099809081889887], [46.44177988109203, 4.848504140719351, 1.7521223606625154], [49.06264787014364, 3.9307401974714007, 1.361384865504909], [47.89883503296447, 6.012215659483535, -0.6235558404520869], [49.36951273016685, 4.187431695133171, 0.18610409378244974], [45.417355785831646, 5.433552812670614, 2.494156896092994], [47.33010743690966, 6.342067152303704, 0.24060008765576668], [47.631244462588356, 4.876641839109545, 2.6138542370757256], [47.9522935307848, 5.167234021432223, 2.062222682900428], [48.48829725534912, 6.278039913356692, 1.5528162993917363], [48.232293438702115, 5.3360795373007175, 0.20080760904461348], [47.450219469873346, 6.738976351742215, 0.26528370989673555], [46.97468032976186, 6.0487076336988626, 1.6407845582948517], [47.96453379785108, 5.392034478790789, 1.2921865039939255], [48.38215231233843, 4.705738484801212, 0.07914559595990511], [49.11593888698914, 4.762696262222061, 0.4566033765756061], [46.68247183144952, 5.429442182471812, 0.13100628607758968], [46.8567907315445, 5.236440154704329, 1.5504460136359612], [48.56151625831685, 5.6243267969218715, 0.46652249723021844], [49.0525528857084, 5.74382608135186, -1.6148033833034638], [47.401104518848825, 3.5600415668123055, 2.1530764199522805], [49.147724178922175, 6.399606033689443, 0.5861202609367376], [48.150905583315236, 7.128815388750253, 0.6700196093812492], [47.820395006100064, 4.165943894348148, 1.1506041941408678]],\n",
       "                {&quot;blur&quot;: 15, &quot;maxZoom&quot;: 18, &quot;minOpacity&quot;: 0.5, &quot;radius&quot;: 25}\n",
       "            );\n",
       "        \n",
       "    \n",
       "                heat_map_3603e16125024ae44a990f2ace6fb578.addTo(map_ece8b30a5837a7c63859e30156d21b3d);\n",
       "&lt;/script&gt;\n",
       "&lt;/html&gt;\" style=\"position:absolute;width:100%;height:100%;left:0;top:0;border:none !important;\" allowfullscreen webkitallowfullscreen mozallowfullscreen></iframe></div></div>"
      ],
      "text/plain": [
       "<folium.folium.Map at 0x7f0192adec50>"
      ]
     },
     "execution_count": 2,
     "metadata": {},
     "output_type": "execute_result"
    }
   ],
   "source": [
    "import folium\n",
    "from folium.plugins import HeatMap\n",
    "\n",
    "m = folium.Map([48.0, 5.0], tiles=\"stamentoner\", zoom_start=6)\n",
    "\n",
    "HeatMap(data).add_to(m)\n",
    "\n",
    "m"
   ]
  }
 ],
 "metadata": {
  "jupytext": {
   "text_representation": {
    "extension": ".mystnb",
    "format_name": "myst"
   }
  },
  "language_info": {
   "codemirror_mode": {
    "name": "ipython",
    "version": 3
   },
   "file_extension": ".py",
   "mimetype": "text/x-python",
   "name": "python",
   "nbconvert_exporter": "python",
   "pygments_lexer": "ipython3",
   "version": "3.11.5"
  }
 },
 "nbformat": 4,
 "nbformat_minor": 5
}
