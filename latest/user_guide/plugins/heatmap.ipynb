{
 "cells": [
  {
   "cell_type": "markdown",
   "id": "484fa64b",
   "metadata": {},
   "source": [
    "## Heatmap"
   ]
  },
  {
   "cell_type": "code",
   "execution_count": 1,
   "id": "4098b5b2",
   "metadata": {
    "execution": {
     "iopub.execute_input": "2023-09-06T11:20:15.302256Z",
     "iopub.status.busy": "2023-09-06T11:20:15.301824Z",
     "iopub.status.idle": "2023-09-06T11:20:15.365487Z",
     "shell.execute_reply": "2023-09-06T11:20:15.364969Z"
    }
   },
   "outputs": [],
   "source": [
    "import numpy as np\n",
    "\n",
    "data = (\n",
    "    np.random.normal(size=(100, 3)) * np.array([[1, 1, 1]]) + np.array([[48, 5, 1]])\n",
    ").tolist()"
   ]
  },
  {
   "cell_type": "code",
   "execution_count": 2,
   "id": "949e04ad",
   "metadata": {
    "execution": {
     "iopub.execute_input": "2023-09-06T11:20:15.369521Z",
     "iopub.status.busy": "2023-09-06T11:20:15.368541Z",
     "iopub.status.idle": "2023-09-06T11:20:15.833431Z",
     "shell.execute_reply": "2023-09-06T11:20:15.832869Z"
    }
   },
   "outputs": [
    {
     "data": {
      "text/html": [
       "<div style=\"width:100%;\"><div style=\"position:relative;width:100%;height:0;padding-bottom:60%;\"><span style=\"color:#565656\">Make this Notebook Trusted to load map: File -> Trust Notebook</span><iframe srcdoc=\"&lt;!DOCTYPE html&gt;\n",
       "&lt;html&gt;\n",
       "&lt;head&gt;\n",
       "    \n",
       "    &lt;meta http-equiv=&quot;content-type&quot; content=&quot;text/html; charset=UTF-8&quot; /&gt;\n",
       "    \n",
       "        &lt;script&gt;\n",
       "            L_NO_TOUCH = false;\n",
       "            L_DISABLE_3D = false;\n",
       "        &lt;/script&gt;\n",
       "    \n",
       "    &lt;style&gt;html, body {width: 100%;height: 100%;margin: 0;padding: 0;}&lt;/style&gt;\n",
       "    &lt;style&gt;#map {position:absolute;top:0;bottom:0;right:0;left:0;}&lt;/style&gt;\n",
       "    &lt;script src=&quot;https://cdn.jsdelivr.net/npm/leaflet@1.9.3/dist/leaflet.js&quot;&gt;&lt;/script&gt;\n",
       "    &lt;script src=&quot;https://code.jquery.com/jquery-1.12.4.min.js&quot;&gt;&lt;/script&gt;\n",
       "    &lt;script src=&quot;https://cdn.jsdelivr.net/npm/bootstrap@5.2.2/dist/js/bootstrap.bundle.min.js&quot;&gt;&lt;/script&gt;\n",
       "    &lt;script src=&quot;https://cdnjs.cloudflare.com/ajax/libs/Leaflet.awesome-markers/2.0.2/leaflet.awesome-markers.js&quot;&gt;&lt;/script&gt;\n",
       "    &lt;link rel=&quot;stylesheet&quot; href=&quot;https://cdn.jsdelivr.net/npm/leaflet@1.9.3/dist/leaflet.css&quot;/&gt;\n",
       "    &lt;link rel=&quot;stylesheet&quot; href=&quot;https://cdn.jsdelivr.net/npm/bootstrap@5.2.2/dist/css/bootstrap.min.css&quot;/&gt;\n",
       "    &lt;link rel=&quot;stylesheet&quot; href=&quot;https://netdna.bootstrapcdn.com/bootstrap/3.0.0/css/bootstrap.min.css&quot;/&gt;\n",
       "    &lt;link rel=&quot;stylesheet&quot; href=&quot;https://cdn.jsdelivr.net/npm/@fortawesome/fontawesome-free@6.2.0/css/all.min.css&quot;/&gt;\n",
       "    &lt;link rel=&quot;stylesheet&quot; href=&quot;https://cdnjs.cloudflare.com/ajax/libs/Leaflet.awesome-markers/2.0.2/leaflet.awesome-markers.css&quot;/&gt;\n",
       "    &lt;link rel=&quot;stylesheet&quot; href=&quot;https://cdn.jsdelivr.net/gh/python-visualization/folium/folium/templates/leaflet.awesome.rotate.min.css&quot;/&gt;\n",
       "    \n",
       "            &lt;meta name=&quot;viewport&quot; content=&quot;width=device-width,\n",
       "                initial-scale=1.0, maximum-scale=1.0, user-scalable=no&quot; /&gt;\n",
       "            &lt;style&gt;\n",
       "                #map_0de636b61b933a4e42e2b4a5391daa19 {\n",
       "                    position: relative;\n",
       "                    width: 100.0%;\n",
       "                    height: 100.0%;\n",
       "                    left: 0.0%;\n",
       "                    top: 0.0%;\n",
       "                }\n",
       "                .leaflet-container { font-size: 1rem; }\n",
       "            &lt;/style&gt;\n",
       "        \n",
       "    &lt;script src=&quot;https://cdn.jsdelivr.net/gh/python-visualization/folium@main/folium/templates/leaflet_heat.min.js&quot;&gt;&lt;/script&gt;\n",
       "&lt;/head&gt;\n",
       "&lt;body&gt;\n",
       "    \n",
       "    \n",
       "            &lt;div class=&quot;folium-map&quot; id=&quot;map_0de636b61b933a4e42e2b4a5391daa19&quot; &gt;&lt;/div&gt;\n",
       "        \n",
       "&lt;/body&gt;\n",
       "&lt;script&gt;\n",
       "    \n",
       "    \n",
       "            var map_0de636b61b933a4e42e2b4a5391daa19 = L.map(\n",
       "                &quot;map_0de636b61b933a4e42e2b4a5391daa19&quot;,\n",
       "                {\n",
       "                    center: [48.0, 5.0],\n",
       "                    crs: L.CRS.EPSG3857,\n",
       "                    zoom: 6,\n",
       "                    zoomControl: true,\n",
       "                    preferCanvas: false,\n",
       "                }\n",
       "            );\n",
       "\n",
       "            \n",
       "\n",
       "        \n",
       "    \n",
       "            var tile_layer_af0a7f1ec25c75d1b9bf1bee98e92ef2 = L.tileLayer(\n",
       "                &quot;https://stamen-tiles-{s}.a.ssl.fastly.net/toner/{z}/{x}/{y}.png&quot;,\n",
       "                {&quot;attribution&quot;: &quot;Map tiles by \\u003ca target=\\&quot;_blank\\&quot; href=\\&quot;http://stamen.com\\&quot;\\u003eStamen Design\\u003c/a\\u003e, under \\u003ca target=\\&quot;_blank\\&quot; href=\\&quot;http://creativecommons.org/licenses/by/3.0\\&quot;\\u003eCC BY 3.0\\u003c/a\\u003e. Data by \\u0026copy; \\u003ca target=\\&quot;_blank\\&quot; href=\\&quot;http://openstreetmap.org\\&quot;\\u003eOpenStreetMap\\u003c/a\\u003e, under \\u003ca target=\\&quot;_blank\\&quot; href=\\&quot;http://www.openstreetmap.org/copyright\\&quot;\\u003eODbL\\u003c/a\\u003e.&quot;, &quot;detectRetina&quot;: false, &quot;maxNativeZoom&quot;: 18, &quot;maxZoom&quot;: 18, &quot;minZoom&quot;: 0, &quot;noWrap&quot;: false, &quot;opacity&quot;: 1, &quot;subdomains&quot;: &quot;abc&quot;, &quot;tms&quot;: false}\n",
       "            );\n",
       "        \n",
       "    \n",
       "                tile_layer_af0a7f1ec25c75d1b9bf1bee98e92ef2.addTo(map_0de636b61b933a4e42e2b4a5391daa19);\n",
       "    \n",
       "            var heat_map_ad304e4799e8c082f036dc05ea483f7d = L.heatLayer(\n",
       "                [[46.119120465088095, 2.9423136785201804, -0.22043361213822266], [48.41120292794219, 4.52075326042315, 0.9473350224400644], [48.31770371945926, 4.310049462259666, 0.9656693990780549], [48.20693650434084, 4.621686768610327, 1.3984205381452794], [47.28679846084471, 5.21916214418706, 0.6869653674511687], [47.46185427274948, 5.287023876185177, 0.4623625427640269], [47.02789206263576, 6.035042448085552, 1.6383152605155713], [45.47228323695279, 6.816484241830504, 1.8765865097675265], [47.46450520952681, 5.242620869013501, 0.6053015252927643], [46.33517240451949, 6.894494886469791, 1.2011594034821935], [47.39015716042051, 5.700062623393236, 3.0584201545383674], [48.43887078024334, 6.438415581053633, -1.2769591233335333], [48.000150468450954, 5.629051013102898, 0.6105000167320231], [48.8763482488012, 4.744576919484244, -0.1894269552267851], [46.79932054887784, 4.098499916416815, 1.4986051505409839], [48.528163705945275, 4.331651227642877, -0.1419325412118062], [47.18818104969881, 5.921342022641871, 0.968348849765644], [48.10301189930618, 4.346051124750779, 0.4018161817864653], [49.43799512409255, 5.577033407725131, 1.1248094362863088], [49.06484239597436, 4.929908596770533, 2.290963433308014], [47.15513272977075, 3.3845059667351887, 0.6603966965178952], [48.13735122739323, 4.879623019642525, 0.47461493819158995], [47.60917319908417, 4.943565152046116, -0.0915254421138163], [49.62498677970754, 4.964223383643949, 2.228708855705208], [48.3994603282187, 4.193369320663862, 1.3270840707670755], [47.57908577241545, 4.47147623155315, 0.8523597999640801], [48.159579905616795, 4.450079411359902, 1.5420547702190381], [47.695288036841816, 6.135220783229732, 0.7618612152299498], [48.331213087423905, 5.355727909884952, 0.9485485705961958], [48.779620245790625, 5.874611597824732, 0.4330274948382117], [46.926214795415284, 5.50681911171738, 1.256490656380887], [49.1124211295883, 4.846895338155786, 1.1038268810076182], [46.56494589239861, 4.9773091703395425, 0.644666515907323], [48.86861785582966, 4.045905502528033, -0.4208022801390108], [48.610105495099745, 6.27978203413976, 2.461353878209998], [49.96109241769128, 5.446937551058263, 1.9273135870684972], [47.787447385383565, 3.7171719628257347, 1.710237382332439], [48.73205173751294, 3.3340983567164306, 2.074512723412451], [47.661003838800276, 6.828014748086332, 0.7157040445564662], [48.91031461182983, 5.570121784925877, 1.6055659562405107], [48.93973117814631, 4.214549505163896, 2.185812915467025], [49.121844302086785, 4.617691970128705, 1.7953514599729514], [47.435764746569774, 4.540974909524945, 2.066658493676533], [48.20387026805649, 5.164542938695643, 0.9636135992148958], [48.339813637198446, 5.790189849306326, 0.3023211832477817], [49.37420158370853, 5.416176760154506, 1.675825452730785], [48.66166387811631, 4.679124729836999, 1.1565635718580978], [45.7529388012148, 4.383838465484874, 1.116050102925776], [49.40802993837668, 4.607094229447168, 3.1875108445003506], [47.07495109527967, 4.339815594374649, 0.02069710974776251], [47.243048319886846, 4.3676392557518025, 1.5890664053811894], [46.87441654632322, 6.742604929125764, 1.842242785530527], [47.40334147274831, 4.4587606441547285, 1.2180407918673533], [46.72452576937457, 3.9920637759932633, 1.6965896486472516], [48.67353701375256, 3.545769692097874, 0.5505178742454266], [48.88046246960633, 5.491884505395747, 2.1704563966000947], [46.93437750877392, 4.7664730981044166, 0.2057737038208186], [46.99663266092737, 5.906967369966565, 0.5458737200405017], [48.696252014189994, 4.631027510672498, 0.9783139589480822], [48.755701851246855, 5.655285633050238, 2.038053705555007], [46.402278824052296, 3.718422607596034, 1.753781707839551], [48.27325217969645, 4.890241870607823, 1.329619650873881], [48.280027220574006, 6.209106194380624, 1.8839729371905722], [45.985638025761396, 4.255859775849462, 0.8202458677838348], [47.678645993260794, 4.357865970379823, -0.4175446148037989], [47.60212733666676, 5.547307837912117, 0.6356135149157665], [48.29485665531089, 7.1769207371570305, 0.9783636702705968], [46.79409921574162, 2.785996630318413, 1.6439643323139863], [46.34094817253005, 5.148231336794836, -0.7453558762311956], [48.245567283775536, 3.708485123037781, 0.9342094259158469], [49.14456088637634, 5.004024893355495, 1.5178662998910524], [45.99325912739387, 4.449069910832699, 0.6723598182688446], [47.69430063022241, 5.4358205945678195, 1.3827329615643487], [48.46983263482465, 3.401530872495644, 1.6361445563158652], [49.05252590720227, 4.289202073522842, 0.8261711460395272], [46.0731744265356, 3.677330326171312, 0.403446355707886], [49.11274392887205, 4.850505412329941, 3.08830078327312], [48.500634535999275, 6.319630328703551, 0.901892861375625], [48.11183352504768, 7.139364617245043, 1.144831778203077], [48.663085134180704, 6.735579458780793, -0.4476251519557497], [49.80763372772186, 4.454722908793042, 1.9431876929118164], [48.3084781479042, 5.511121424498868, 2.20862525215617], [46.695388483359416, 5.290867619782338, 0.28754654239767363], [46.829969436048486, 5.061222904371253, 0.732661569610177], [48.56951552071646, 3.6002076552355073, 2.2752910426790383], [47.19158867564792, 4.931576153848594, 2.1963781218390905], [49.149704445130446, 6.054477457682338, 0.8758907883275306], [49.60002657963987, 4.551805572467658, -0.05996506388702216], [49.1939363476675, 5.806210416140395, 0.17614810064156905], [47.43166516201947, 4.557428460469847, 0.6741206697999182], [50.14215008763175, 6.089456231349992, -0.7059181356180566], [48.272358551648374, 5.280795863522956, -0.8503860867624848], [47.07157528704965, 4.470872421632129, 0.2674881626877186], [48.5551320215544, 4.6171153777285205, 1.0605523591477555], [48.39237855995471, 4.768764349808116, 2.2070374709350333], [47.762873586500376, 4.264240974077299, -0.08473722923095672], [49.389871799139115, 4.086821540647527, 0.45873106427590293], [45.38931016669013, 4.604812798062105, 0.6843574646334117], [48.86060265124673, 4.847726191365883, 0.49817382737033566], [48.97451544526047, 4.572907084524859, 0.9894884646524051]],\n",
       "                {&quot;blur&quot;: 15, &quot;maxZoom&quot;: 18, &quot;minOpacity&quot;: 0.5, &quot;radius&quot;: 25}\n",
       "            );\n",
       "        \n",
       "    \n",
       "                heat_map_ad304e4799e8c082f036dc05ea483f7d.addTo(map_0de636b61b933a4e42e2b4a5391daa19);\n",
       "&lt;/script&gt;\n",
       "&lt;/html&gt;\" style=\"position:absolute;width:100%;height:100%;left:0;top:0;border:none !important;\" allowfullscreen webkitallowfullscreen mozallowfullscreen></iframe></div></div>"
      ],
      "text/plain": [
       "<folium.folium.Map at 0x7f99e8891a10>"
      ]
     },
     "execution_count": 2,
     "metadata": {},
     "output_type": "execute_result"
    }
   ],
   "source": [
    "import folium\n",
    "from folium.plugins import HeatMap\n",
    "\n",
    "m = folium.Map([48.0, 5.0], tiles=\"stamentoner\", zoom_start=6)\n",
    "\n",
    "HeatMap(data).add_to(m)\n",
    "\n",
    "m"
   ]
  }
 ],
 "metadata": {
  "jupytext": {
   "text_representation": {
    "extension": ".mystnb",
    "format_name": "myst"
   }
  },
  "language_info": {
   "codemirror_mode": {
    "name": "ipython",
    "version": 3
   },
   "file_extension": ".py",
   "mimetype": "text/x-python",
   "name": "python",
   "nbconvert_exporter": "python",
   "pygments_lexer": "ipython3",
   "version": "3.11.5"
  }
 },
 "nbformat": 4,
 "nbformat_minor": 5
}
