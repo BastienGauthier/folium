{
 "cells": [
  {
   "cell_type": "markdown",
   "id": "449cda96",
   "metadata": {},
   "source": [
    "## Heatmap"
   ]
  },
  {
   "cell_type": "code",
   "execution_count": 1,
   "id": "d4a2d13d",
   "metadata": {
    "execution": {
     "iopub.execute_input": "2023-09-05T17:07:28.477532Z",
     "iopub.status.busy": "2023-09-05T17:07:28.477353Z",
     "iopub.status.idle": "2023-09-05T17:07:28.536990Z",
     "shell.execute_reply": "2023-09-05T17:07:28.536491Z"
    }
   },
   "outputs": [],
   "source": [
    "import numpy as np\n",
    "\n",
    "data = (\n",
    "    np.random.normal(size=(100, 3)) * np.array([[1, 1, 1]]) + np.array([[48, 5, 1]])\n",
    ").tolist()"
   ]
  },
  {
   "cell_type": "code",
   "execution_count": 2,
   "id": "ff79facf",
   "metadata": {
    "execution": {
     "iopub.execute_input": "2023-09-05T17:07:28.540761Z",
     "iopub.status.busy": "2023-09-05T17:07:28.539810Z",
     "iopub.status.idle": "2023-09-05T17:07:28.995572Z",
     "shell.execute_reply": "2023-09-05T17:07:28.995020Z"
    }
   },
   "outputs": [
    {
     "data": {
      "text/html": [
       "<div style=\"width:100%;\"><div style=\"position:relative;width:100%;height:0;padding-bottom:60%;\"><span style=\"color:#565656\">Make this Notebook Trusted to load map: File -> Trust Notebook</span><iframe srcdoc=\"&lt;!DOCTYPE html&gt;\n",
       "&lt;html&gt;\n",
       "&lt;head&gt;\n",
       "    \n",
       "    &lt;meta http-equiv=&quot;content-type&quot; content=&quot;text/html; charset=UTF-8&quot; /&gt;\n",
       "    \n",
       "        &lt;script&gt;\n",
       "            L_NO_TOUCH = false;\n",
       "            L_DISABLE_3D = false;\n",
       "        &lt;/script&gt;\n",
       "    \n",
       "    &lt;style&gt;html, body {width: 100%;height: 100%;margin: 0;padding: 0;}&lt;/style&gt;\n",
       "    &lt;style&gt;#map {position:absolute;top:0;bottom:0;right:0;left:0;}&lt;/style&gt;\n",
       "    &lt;script src=&quot;https://cdn.jsdelivr.net/npm/leaflet@1.9.3/dist/leaflet.js&quot;&gt;&lt;/script&gt;\n",
       "    &lt;script src=&quot;https://code.jquery.com/jquery-1.12.4.min.js&quot;&gt;&lt;/script&gt;\n",
       "    &lt;script src=&quot;https://cdn.jsdelivr.net/npm/bootstrap@5.2.2/dist/js/bootstrap.bundle.min.js&quot;&gt;&lt;/script&gt;\n",
       "    &lt;script src=&quot;https://cdnjs.cloudflare.com/ajax/libs/Leaflet.awesome-markers/2.0.2/leaflet.awesome-markers.js&quot;&gt;&lt;/script&gt;\n",
       "    &lt;link rel=&quot;stylesheet&quot; href=&quot;https://cdn.jsdelivr.net/npm/leaflet@1.9.3/dist/leaflet.css&quot;/&gt;\n",
       "    &lt;link rel=&quot;stylesheet&quot; href=&quot;https://cdn.jsdelivr.net/npm/bootstrap@5.2.2/dist/css/bootstrap.min.css&quot;/&gt;\n",
       "    &lt;link rel=&quot;stylesheet&quot; href=&quot;https://netdna.bootstrapcdn.com/bootstrap/3.0.0/css/bootstrap.min.css&quot;/&gt;\n",
       "    &lt;link rel=&quot;stylesheet&quot; href=&quot;https://cdn.jsdelivr.net/npm/@fortawesome/fontawesome-free@6.2.0/css/all.min.css&quot;/&gt;\n",
       "    &lt;link rel=&quot;stylesheet&quot; href=&quot;https://cdnjs.cloudflare.com/ajax/libs/Leaflet.awesome-markers/2.0.2/leaflet.awesome-markers.css&quot;/&gt;\n",
       "    &lt;link rel=&quot;stylesheet&quot; href=&quot;https://cdn.jsdelivr.net/gh/python-visualization/folium/folium/templates/leaflet.awesome.rotate.min.css&quot;/&gt;\n",
       "    \n",
       "            &lt;meta name=&quot;viewport&quot; content=&quot;width=device-width,\n",
       "                initial-scale=1.0, maximum-scale=1.0, user-scalable=no&quot; /&gt;\n",
       "            &lt;style&gt;\n",
       "                #map_1fd923e0e35b4702f039c38706f8c268 {\n",
       "                    position: relative;\n",
       "                    width: 100.0%;\n",
       "                    height: 100.0%;\n",
       "                    left: 0.0%;\n",
       "                    top: 0.0%;\n",
       "                }\n",
       "                .leaflet-container { font-size: 1rem; }\n",
       "            &lt;/style&gt;\n",
       "        \n",
       "    &lt;script src=&quot;https://cdn.jsdelivr.net/gh/python-visualization/folium@main/folium/templates/leaflet_heat.min.js&quot;&gt;&lt;/script&gt;\n",
       "&lt;/head&gt;\n",
       "&lt;body&gt;\n",
       "    \n",
       "    \n",
       "            &lt;div class=&quot;folium-map&quot; id=&quot;map_1fd923e0e35b4702f039c38706f8c268&quot; &gt;&lt;/div&gt;\n",
       "        \n",
       "&lt;/body&gt;\n",
       "&lt;script&gt;\n",
       "    \n",
       "    \n",
       "            var map_1fd923e0e35b4702f039c38706f8c268 = L.map(\n",
       "                &quot;map_1fd923e0e35b4702f039c38706f8c268&quot;,\n",
       "                {\n",
       "                    center: [48.0, 5.0],\n",
       "                    crs: L.CRS.EPSG3857,\n",
       "                    zoom: 6,\n",
       "                    zoomControl: true,\n",
       "                    preferCanvas: false,\n",
       "                }\n",
       "            );\n",
       "\n",
       "            \n",
       "\n",
       "        \n",
       "    \n",
       "            var tile_layer_d564889457486635102f8b126f3ef246 = L.tileLayer(\n",
       "                &quot;https://stamen-tiles-{s}.a.ssl.fastly.net/toner/{z}/{x}/{y}.png&quot;,\n",
       "                {&quot;attribution&quot;: &quot;Map tiles by \\u003ca target=\\&quot;_blank\\&quot; href=\\&quot;http://stamen.com\\&quot;\\u003eStamen Design\\u003c/a\\u003e, under \\u003ca target=\\&quot;_blank\\&quot; href=\\&quot;http://creativecommons.org/licenses/by/3.0\\&quot;\\u003eCC BY 3.0\\u003c/a\\u003e. Data by \\u0026copy; \\u003ca target=\\&quot;_blank\\&quot; href=\\&quot;http://openstreetmap.org\\&quot;\\u003eOpenStreetMap\\u003c/a\\u003e, under \\u003ca target=\\&quot;_blank\\&quot; href=\\&quot;http://www.openstreetmap.org/copyright\\&quot;\\u003eODbL\\u003c/a\\u003e.&quot;, &quot;detectRetina&quot;: false, &quot;maxNativeZoom&quot;: 18, &quot;maxZoom&quot;: 18, &quot;minZoom&quot;: 0, &quot;noWrap&quot;: false, &quot;opacity&quot;: 1, &quot;subdomains&quot;: &quot;abc&quot;, &quot;tms&quot;: false}\n",
       "            );\n",
       "        \n",
       "    \n",
       "                tile_layer_d564889457486635102f8b126f3ef246.addTo(map_1fd923e0e35b4702f039c38706f8c268);\n",
       "    \n",
       "            var heat_map_9aa307a6d237f688242d2591fae228a8 = L.heatLayer(\n",
       "                [[48.2012283008555, 3.4653882842452193, 2.3403667271024187], [48.33187291462381, 5.462317962898281, 0.3371301894808323], [48.20222855797802, 5.07687224718749, 0.3559655181281306], [46.751273199061124, 4.037281633486457, 1.205422240654556], [49.73062165220974, 4.62819909224099, -0.8600341586659894], [46.480906227667624, 4.534822509464064, 1.434990675508212], [46.7482403184253, 3.82318167576535, 2.4228677118682653], [49.113906886567754, 4.407074521901323, 0.16219184067002623], [49.815763015505944, 5.412899656940281, 1.4374817869899121], [47.12327712592755, 4.696405871640776, 1.1526815134725648], [47.26642828434636, 6.34749534563136, 0.19651131055215265], [48.063487479670734, 5.514696554119783, -1.3909082662796322], [47.089190895516865, 5.007364052199915, 0.5105568340823845], [47.60403372383832, 5.677664472469318, 0.30638428322357336], [47.53033663932318, 5.22128222358276, 0.03813526474643525], [48.680074900624135, 5.172752808964552, 2.0662698917409505], [46.60716404964177, 5.5966525412593935, 0.9827631297100379], [47.08759044062864, 6.40778823350835, -0.2456456026823528], [48.56360297316284, 6.1705923874709825, -1.0412554837995938], [48.81457097816896, 5.175205251020968, 0.03207229892654928], [46.76522647304413, 6.038208914737109, 1.0437313178504997], [47.6528961396275, 5.308554547296744, 0.77985864765057], [49.45754146110627, 6.065879247667667, 0.49160206318103983], [47.112206607237894, 6.1859974997309894, 1.8053219792222142], [46.08958669058865, 6.543546263508063, 0.914540264697435], [48.54867916567867, 5.714126667257744, 0.04537607998711646], [50.31276792500342, 2.771153874504949, -0.3271309932753126], [49.267115608229226, 5.614266734261876, 1.0040223703709408], [47.91144202807634, 4.313403941956447, 1.6165989404726357], [47.6756428141412, 5.296576308471651, 1.8193416339442519], [48.73895479062402, 5.687734098308457, 0.4785532024616782], [47.08075542892264, 4.94031293469274, 1.364652658769029], [47.18375363921815, 7.866055566104253, 0.10980728639350701], [46.69971995770615, 5.28338908801711, 1.2061336198541261], [48.49726843393334, 4.315273661098725, -0.7152690825624206], [46.60790622454809, 5.5157814265127305, 0.7745355324376632], [47.83933476042042, 4.344111191110346, 1.3405960239599897], [48.01764523886955, 5.640249869933057, 1.3621194872935243], [48.07219633556599, 4.7133715074574845, -0.2239461597226533], [46.688575813079, 5.809349001909537, 2.4110635931903657], [49.41406192698073, 4.936750051820424, 1.9918662762563528], [46.95584790146978, 5.130536746828213, 1.3545829944751278], [47.43543105113336, 4.395023011167626, 0.15000434774134752], [46.04323188017281, 6.386979572872733, 0.4003403448690238], [49.02916818917883, 4.9641507187004885, 0.282671466943207], [48.332007826672935, 6.086357807496782, 2.633648392159068], [49.09941079626801, 5.084359831874746, 0.9928345789696396], [47.41340070335582, 3.742124285457065, 1.3132945312045228], [49.10036314374224, 2.9621922150686713, 1.5633244984148313], [48.84508294098299, 5.2816874180731075, 3.6549838202392757], [49.59746357886803, 5.7154562520144, 2.3721668532684834], [48.39793616177936, 3.029693991731194, 0.04944799121824517], [49.23384637806326, 5.820944581640074, 0.45417602116029254], [46.48169477333742, 4.451653841057881, 0.9681050050801061], [49.31348542981864, 7.525121464889704, 0.22659309740092992], [48.513115019631734, 5.335227182709392, -0.7240393894441839], [45.511138331581044, 6.316498762697811, 0.8040513349158948], [47.43963647822462, 4.024384010918683, 0.9242271383823085], [49.51432747556703, 5.861503543180434, 1.186307310877553], [46.72492784540482, 5.374686116300866, 0.0036746734434385253], [46.41645451483402, 5.378227199025612, 0.401500788273232], [48.71079379206084, 2.76429173699552, 1.2918109964708908], [48.923734612903665, 6.951929228317089, 0.4190976955753949], [47.09707250321191, 5.081356405256394, 1.5048627007669702], [47.90892179157224, 4.820213568587348, 0.7943129162755498], [48.876292474717275, 5.375271588178081, 3.160616038775533], [47.80740057494122, 4.312175257181309, 2.0086053137575313], [47.79671423559952, 5.085667932698905, 2.373583593847281], [47.17740405515261, 3.303538316775746, -0.4841360169864848], [48.72513450386223, 5.1917452634256644, -0.18998927095516094], [48.17038662354227, 6.63679241435195, 0.6649399583741846], [47.69160220293095, 5.95560487271392, 0.7154058112907725], [47.42936325156208, 3.210732749027322, -0.6585209154707397], [46.99169117039665, 4.077184039553754, 1.0196210956415426], [49.2208338594603, 5.9321863534192225, 0.7858234558543176], [47.07887649983212, 3.6347439943133324, -0.12582056702293154], [46.54987065053149, 5.244879113065762, 2.2932878889762143], [48.924283332510086, 6.349958224616002, 1.7567558298182162], [48.0493622496329, 5.610345691732374, 1.6447748974067982], [48.66568517265935, 5.337583388607371, 1.2492236479421113], [49.96117107697076, 4.449922426036082, 0.22373241818992362], [47.39210553420715, 4.065936113108557, 2.5876712406260243], [48.93711401205666, 4.486493724691389, 1.0225366808861114], [47.935052334425194, 4.081432702513896, 2.062366052388689], [48.46787918747795, 6.7199848964280315, 0.8706439641611741], [47.13810968289026, 5.391242869859842, 0.6354715346083056], [49.094903798732524, 4.64106884539927, 1.796709203278354], [49.155488311670695, 4.40178220936928, 1.3757800190880107], [49.78056093823375, 5.921849859777562, -0.7324263083617715], [47.64112584410193, 5.634986787874174, -0.11954632167173829], [46.714613310595716, 5.34204918724428, 0.21289511599450361], [48.68279994783491, 5.932627222465983, -1.1203777895591154], [49.715431660549235, 4.049290506227349, -0.5982980479693416], [50.80399922270891, 6.040784056189355, 1.6644426145938915], [48.625833811030965, 3.911423757227337, 1.1256174192942885], [49.003853405790835, 5.313059797760121, 2.240254984084885], [48.69365064896964, 6.768382576124558, 0.14321023671650202], [47.42776581136417, 5.361415628525166, 0.21115632699598685], [49.92243935017667, 4.875845604185279, 0.8792862402272789], [47.54995082954784, 6.359735217718187, 1.2730520795089606]],\n",
       "                {&quot;blur&quot;: 15, &quot;maxZoom&quot;: 18, &quot;minOpacity&quot;: 0.5, &quot;radius&quot;: 25}\n",
       "            );\n",
       "        \n",
       "    \n",
       "                heat_map_9aa307a6d237f688242d2591fae228a8.addTo(map_1fd923e0e35b4702f039c38706f8c268);\n",
       "&lt;/script&gt;\n",
       "&lt;/html&gt;\" style=\"position:absolute;width:100%;height:100%;left:0;top:0;border:none !important;\" allowfullscreen webkitallowfullscreen mozallowfullscreen></iframe></div></div>"
      ],
      "text/plain": [
       "<folium.folium.Map at 0x7f27f4cc3590>"
      ]
     },
     "execution_count": 2,
     "metadata": {},
     "output_type": "execute_result"
    }
   ],
   "source": [
    "import folium\n",
    "from folium.plugins import HeatMap\n",
    "\n",
    "m = folium.Map([48.0, 5.0], tiles=\"stamentoner\", zoom_start=6)\n",
    "\n",
    "HeatMap(data).add_to(m)\n",
    "\n",
    "m"
   ]
  }
 ],
 "metadata": {
  "jupytext": {
   "text_representation": {
    "extension": ".mystnb",
    "format_name": "myst"
   }
  },
  "language_info": {
   "codemirror_mode": {
    "name": "ipython",
    "version": 3
   },
   "file_extension": ".py",
   "mimetype": "text/x-python",
   "name": "python",
   "nbconvert_exporter": "python",
   "pygments_lexer": "ipython3",
   "version": "3.11.5"
  }
 },
 "nbformat": 4,
 "nbformat_minor": 5
}
